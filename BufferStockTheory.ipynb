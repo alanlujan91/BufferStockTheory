{
 "cells": [
  {
   "cell_type": "markdown",
   "id": "306c842c",
   "metadata": {},
   "source": [
    "# Theoretical Foundations of Buffer Stock Saving\n",
    "\n",
    "<cite data-cite=\"6202365/8AH9AXN2\"></cite>\n",
    "\n",
    "\n",
    "[![econ-ark.org](https://img.shields.io/badge/Powered%20by-Econ--ARK-3e8acc.svg)](https://econ-ark.org/materials/BufferStockTheory)\n"
   ]
  },
  {
   "cell_type": "markdown",
   "id": "8873a4a3",
   "metadata": {},
   "source": [
    "<a id='interactive-dashboard'></a>\n",
    "\n",
    "[This notebook](https://econ-ark.org/BufferStockTheory?launch) uses the [Econ-ARK/HARK](https://github.com/econ-ark/HARK) toolkit to reproduce and illustrate key results of the paper [Theoretical Foundations of Buffer Stock Saving](http://econ-ark.github.io/BufferStockTheory/BufferStockTheory).\n",
    "\n",
    "An [interactive dashboard](https://econ-ark.org/BufferStockStockTheory/#Dashboard) allows you to modify parameters to see how (some of) the figures change.\n",
    "\n",
    "\n",
    "\n",
    "\n",
    "- In JupyterLab, click on the $\\bullet$$\\bullet$$\\bullet$ patterns to expose the runnable code\n",
    "- in either a Jupyter notebook or JupyterLab:\n",
    "\n",
    "    * Click the double triangle <span class=reload>&#x23e9;</span> above to execute the code and generate the figures"
   ]
  },
  {
   "cell_type": "markdown",
   "id": "0bfd24ca",
   "metadata": {},
   "source": [
    "`# Setup Python Below`"
   ]
  },
  {
   "cell_type": "code",
   "execution_count": 1,
   "id": "9c858123",
   "metadata": {
    "tags": []
   },
   "outputs": [],
   "source": [
    "# This cell does some setup\n",
    "\n",
    "# Import required python packages\n",
    "import logging\n",
    "import numpy as np\n",
    "from copy import deepcopy\n",
    "import warnings\n",
    "\n",
    "# Ignore some harmless but alarming warning messages\n",
    "warnings.filterwarnings(\"ignore\")\n",
    "\n",
    "# Plotting tools\n",
    "import matplotlib.pyplot as plt\n",
    "\n",
    "# Make required tools are installed\n",
    "import os.path\n",
    "import sys\n",
    "import subprocess\n",
    "if os.path.isdir('binder'):  # Folder defining requirements exists\n",
    "    # File requirements.out should be created first time notebook is run\n",
    "    if not os.path.isfile('./binder/requirements.out'):\n",
    "        try:\n",
    "            output = subprocess.check_output(\n",
    "                [sys.executable, '-m', 'pip', 'install','--user','-r','./binder/requirements.txt'],stderr=subprocess.STDOUT) \n",
    "            requirements_out = open(\"./binder/requirements.out\",\"w\")\n",
    "            requirements_out.write(output.decode(\"utf8\"))\n",
    "        except subprocess.CalledProcessError as e:\n",
    "            print(output.decode(\"utf8\"))\n",
    "            print(e.output.decode(\"utf8\"),e.returncode)"
   ]
  },
  {
   "cell_type": "markdown",
   "id": "1ee97d67",
   "metadata": {},
   "source": [
    "`# Setup HARK Below`"
   ]
  },
  {
   "cell_type": "code",
   "execution_count": 2,
   "id": "c1c5987e",
   "metadata": {
    "tags": []
   },
   "outputs": [],
   "source": [
    "# Import required HARK tools\n",
    "from HARK import __version__ as HARKversion\n",
    "from HARK.utilities import (\n",
    "    plot_funcs, find_gui, make_figs, determine_platform,\n",
    "    test_latex_installation, setup_latex_env_notebook)\n",
    "from HARK.ConsumptionSaving.ConsIndShockModel import (\n",
    "    PerfForesightConsumerType, IndShockConsumerType, init_perfect_foresight, init_idiosyncratic_shocks)\n",
    "\n",
    "\n",
    "# Whether to save the figures to Figures_dir\n",
    "saveFigs = True\n",
    "\n",
    "# Whether to draw the figures\n",
    "drawFigs = True\n",
    "\n",
    "pf = determine_platform() # latex checking depends on platform\n",
    "try: # test whether latex is installed on command line \n",
    "    latexExists = test_latex_installation(pf)\n",
    "except ImportError:  # windows and MacOS requires manual latex install\n",
    "    latexExists = False\n",
    "\n",
    "setup_latex_env_notebook(pf, latexExists)\n",
    "\n",
    "# check if GUI is present; if not then switch drawFigs to False and force saveFigs to be True\n",
    "if not find_gui():\n",
    "    drawFigs, saveFigs = False, True\n",
    "\n",
    "# Font sizes for figures\n",
    "fssml, fsmid, fsbig = 18, 22, 26\n",
    "\n",
    "def makeFig(figure_name, target_dir=\"./Figures\"):\n",
    "    print('')\n",
    "    make_figs(figure_name, saveFigs, drawFigs, target_dir)\n",
    "    print('')\n",
    "    \n",
    "base_params = deepcopy(init_idiosyncratic_shocks)\n",
    "# Uninteresting housekeeping and details\n",
    "# Make global variables for the things that were lists above \n",
    "PermGroFac, PermShkStd, TranShkStd = base_params['PermGroFac'][0], base_params['PermShkStd'][0], base_params['TranShkStd'][0]\n",
    "\n",
    "# Some technical settings that are not interesting for our purposes\n",
    "base_params['LivPrb'] = [1.0]   # 100 percent chance of living to next period\n",
    "base_params['BoroCnstArt'] = None    # No artificial borrowing constraint"
   ]
  },
  {
   "cell_type": "markdown",
   "id": "fea9c770",
   "metadata": {
    "tags": []
   },
   "source": [
    "## [The Problem](http://econ-ark.github.io/BufferStockTheory/BufferStockTheory/#The-Problem)\n",
    "\n",
    "The paper [calibrates](https://econ-ark.github.io/BufferStockTheory/#Calibration) a small set of parameters:\n",
    "\n",
    "\\begin{align}\n",
    " &\n",
    "\\renewcommand{\\APF}{\\pmb{\\unicode[0.55,0.05]{0x00DE}}}\n",
    "\\newcommand{\\PatFac}{\\pmb{\\unicode[0.55,0.05]{0x00DE}}}\n",
    "\\newcommand{\\PatRte}{\\pmb{\\unicode[0.55,0.05]{0x00FE}}}\n",
    "\\newcommand{\\aLvl}{\\mathbf{a}}\n",
    "\\newcommand{\\CRRA}{\\rho}\n",
    "\\newcommand{\\cLvl}{{\\mathbf{c}}}\n",
    "\\newcommand{\\aNrm}{{a}}\n",
    "\\newcommand{\\bNrm}{{b}}\n",
    "\\newcommand{\\cNrm}{{c}}\n",
    "\\newcommand{\\dNrm}{{d}}\n",
    "\\newcommand{\\hNrm}{{h}}\n",
    "\\newcommand{\\mNrm}{{m}}\n",
    "\\newcommand{\\vNrm}{{v}}\n",
    "\\newcommand{\\aLvl}{{\\mathbf{a}}}\n",
    "\\newcommand{\\bLvl}{{\\mathbf{b}}}\n",
    "\\newcommand{\\cLvl}{{\\mathbf{c}}}\n",
    "\\newcommand{\\dLvl}{{\\mathbf{d}}}\n",
    "\\newcommand{\\hLvl}{{\\mathbf{h}}}\n",
    "\\newcommand{\\mLvl}{{\\mathbf{m}}}\n",
    "\\newcommand{\\pLvl}{{\\mathbf{p}}}\n",
    "\\newcommand{\\vLvl}{{\\mathbf{v}}}\n",
    "\\newcommand{\\cFunc}{\\mathrm{c}}\n",
    "\\newcommand{\\uFunc}{\\mathrm{u}}\n",
    "\\newcommand{\\RNrm}{\\mathcal{R}}\n",
    "\\newcommand{\\DiscFac}{\\beta}\n",
    "\\newcommand{\\Ex}{\\mathbb{E}}\n",
    "\\newcommand{\\IncUnemp}{\\mu}\n",
    "\\newcommand{\\MPC}{\\kappa}\n",
    "\\newcommand{\\PermGroFac}{\\pmb{\\Phi}}\n",
    "\\newcommand{\\PermGroFacAdj}{\\tilde{\\Phi}}\n",
    "\\newcommand{\\PermShkStd}{\\sigma_\\Psi}\n",
    "\\newcommand{\\PermShkStd}{\\sigma_\\psi}\n",
    "\\newcommand{\\PermShk}{\\Psi} % New\n",
    "\\newcommand{\\PermShk}{\\psi} % New\n",
    "\\newcommand{\\Rfree}{\\mathsf{R}}\n",
    "\\newcommand{\\Trg}{\\hat}\n",
    "\\newcommand{\\Bal}{\\check}\n",
    "\\newcommand{\\Thorn}{\\pmb{\\TH}}\n",
    "\\newcommand{\\TranShkStd}{\\sigma_\\Theta}\n",
    "\\newcommand{\\TranShk}{\\Theta}\n",
    "\\newcommand{\\TranShk}{\\theta}\n",
    "\\newcommand{\\TranShkStd}{\\sigma_{\\theta}}\n",
    "\\newcommand{\\UnempPrb}{\\wp}\n",
    "\\newcommand\\maththorn{\\mathord{\\pmb{\\text{\\TH}}}}\n",
    "\\end{align}\n",
    "\n",
    "| Parameter | Description | Python Variable | Value |\n",
    "|:---:      | :---:       | :---:  | :---: |\n",
    "| $\\PermGroFac$ | Permanent Income Growth Factor | $\\texttt{PermGroFac}$ | 1.03 |\n",
    "| $\\Rfree$ | Interest Factor | $\\texttt{Rfree}$ | 1.04 |\n",
    "| $\\DiscFac$ | Time Preference Factor | $\\texttt{DiscFac}$ | 0.96 |\n",
    "| $\\CRRA$ | Coeﬃcient of Relative Risk Aversion| $\\texttt{CRRA}$ | 2 |\n",
    "| $\\UnempPrb$ | Probability of Unemployment | $\\texttt{UnempPrb}$ | 0.005 |\n",
    "| $\\TranShk^{\\large u}$ | Income when Unemployed | $\\texttt{IncUnemp}$ | 0. |\n",
    "| $\\PermShkStd$ | Std Dev of Log Permanent Shock| $\\texttt{PermShkStd}$ | 0.1 |\n",
    "| $\\TranShkStd$ | Std Dev of Log Transitory Shock| $\\texttt{TranShkStd}$ | 0.1 |\n",
    "\n",
    "that define the preferences and environment of microeconomic consumers as detailed below.\n",
    "\n",
    "The objective of such a consumer with a horizon of $n$ periods is to maximize the value obtained from the stream of consumption __**c**__ from period $t=T-n$ to a terminal period $T$:\n",
    "\n",
    "\\begin{equation}\n",
    "\\mathbf{v}_{t} = \\sum_{i=0}^{n} \\DiscFac^{n}\\mathrm{u}(\\mathbf{c}_{t+n})\n",
    "\\end{equation}\n",
    "\n",
    "The infinite-horizon solution is defined as the limit of the first period solution $\\mathrm{c}_{T-n}$ as the horizon $n$ goes to infinity."
   ]
  },
  {
   "cell_type": "markdown",
   "id": "cf332912",
   "metadata": {
    "tags": []
   },
   "source": [
    "### Details\n",
    "For a microeconomic consumer who begins period $t$ with __**m**__arket resources boldface $\\mLvl_{t}$ (=net worth plus current income), the amount that remains after __**c**__onsumption of $\\cLvl_{t}$ will be end-of-period __**a**__ssets $\\aLvl_{t}$,\n",
    "\n",
    "<!-- Next period's 'Balances' $B_{t+1}$ reflect this period's $\\aLvl_{t}$ augmented by return factor $R$:-->"
   ]
  },
  {
   "cell_type": "markdown",
   "id": "29a59d0a",
   "metadata": {},
   "source": [
    "\\begin{eqnarray}\n",
    "\\aLvl_{t}   &=&\\mLvl_{t}-\\cLvl_{t}. \\notag\n",
    "\\end{eqnarray}\n",
    "\n",
    "The consumer's __**p**__ermanent noncapital income $\\pLvl$ grows by a predictable factor $\\PermGroFac$ and is subject to an unpredictable multiplicative shock $\\Ex_{t}[\\PermShk_{t+1}]=1$,\n",
    "\n",
    "\\begin{eqnarray}\n",
    "\\pLvl_{t+1} & = & \\pLvl_{t} \\PermGroFac \\PermShk_{t+1}, \\notag\n",
    "\\end{eqnarray}\n",
    "\n",
    "and, if the consumer is employed, actual income is permanent income multiplied by a transitory shock $\\TranShk^{\\large e}$.  There is also a probability $\\UnempPrb$ that the consumer will be temporarily unemployed and experience income of $\\TranShk^{\\large u}  = 0$.  We construct $\\TranShk^{\\large e}$ so that its mean value is $1/(1-\\UnempPrb)$ because in that case the mean level of the transitory shock (accounting for both unemployed and employed states) is exactly\n",
    "\n",
    "\\begin{eqnarray}\n",
    "\\Ex_{t}[\\TranShk_{t+1}] & = & \\TranShk^{\\large{u}}  \\times \\UnempPrb + (1-\\UnempPrb) \\times \\Ex_{t}[\\TranShk^{\\large{e}}_{t+1}] \\notag\n",
    "\\\\ & = & 0 \\times \\UnempPrb + (1-\\UnempPrb) \\times 1/(1-\\UnempPrb)  \\notag\n",
    "\\\\ & = & 1. \\notag\n",
    "\\end{eqnarray}\n",
    "\n",
    "  We can combine the unemployment shock $\\TranShk^{\\large u}$ and the transitory shock to employment income $\\TranShk^{\\large e}$ into $\\TranShk _{t+1}$, so that next period's market resources are\n",
    "\\begin{eqnarray}\n",
    "    \\mLvl_{t+1} &=& \\aLvl_{t}\\Rfree +\\pLvl_{t+1}\\TranShk_{t+1}.  \\notag\n",
    "\\end{eqnarray}"
   ]
  },
  {
   "cell_type": "markdown",
   "id": "0582906a",
   "metadata": {},
   "source": [
    "When the consumer has a CRRA utility function $u(\\cLvl)=\\frac{\\cLvl^{1-\\CRRA}}{1-\\CRRA}$, the paper shows that the problem can be written in terms of ratios (nonbold font) of level (bold font) variables to permanent income, e.g. $m_{t} \\equiv \\mLvl_{t}/\\pLvl_{t}$, and the Bellman form of [the problem reduces to](https://econ-ark.github.io/BufferStockTheory/#The-Related-Problem):\n",
    "\n",
    "\\begin{eqnarray*}\n",
    "v_t(m_t) &=& \\max_{c_t}~~ u(c_t) + \\DiscFac~\\Ex_{t} [(\\PermGroFac\\PermShk_{t+1})^{1-\\CRRA} v_{t+1}(m_{t+1}) ] \\\\\n",
    "& s.t. & \\\\\n",
    "a_t &=& m_t - c_t \\\\\n",
    "m_{t+1} &=& a_t \\Rfree/(\\PermGroFac \\PermShk_{t+1}) + \\TranShk_{t+1} \\\\\n",
    "\\end{eqnarray*}"
   ]
  },
  {
   "cell_type": "code",
   "execution_count": 3,
   "id": "2ae82b56",
   "metadata": {
    "lines_to_next_cell": 0,
    "tags": []
   },
   "outputs": [],
   "source": [
    "# Set the parameters for the baseline results in the paper\n",
    "base_params['PermGroFac'] = [1.03]  # Permanent income growth factor\n",
    "base_params['Rfree'] = Rfree = 1.04  # Interest factor on assets\n",
    "base_params['DiscFac'] = DiscFac = 0.96  # Time Preference Factor\n",
    "base_params['CRRA'] = CRRA = 2.00  # Coefficient of relative risk aversion\n",
    "# Probability of unemployment (e.g. Probability of Zero Income in the paper)\n",
    "base_params['UnempPrb'] = UnempPrb = 0.005\n",
    "base_params['IncUnemp'] = IncUnemp = 0.0   # Induces natural borrowing constraint\n",
    "base_params['PermShkStd'] = [0.1]   # Standard deviation of log permanent income shocks\n",
    "base_params['TranShkStd'] = [0.1]   # Standard deviation of log transitory income shocks"
   ]
  },
  {
   "cell_type": "markdown",
   "id": "cf3d3f7a",
   "metadata": {},
   "source": [
    "## Convergence of the Consumption Rules\n",
    "\n",
    "Under the given parameter values, [the paper's first figure](https://econ-ark.github.io/BufferStockTheory/#Convergence-of-the-Consumption-Rules) depicts the successive consumption rules that apply in the last period of life $(c_{T}(m))$, the second-to-last period, and earlier periods $(c_{T-n})$.  The consumption function to which these converge is $c(m)$:\n",
    "\n",
    "\\begin{equation}\n",
    "c(m) = \\lim_{n \\uparrow \\infty} c_{T-n}(m) \\notag\n",
    "\\end{equation}"
   ]
  },
  {
   "cell_type": "markdown",
   "id": "947e18e0",
   "metadata": {},
   "source": [
    "`# Create a buffer stock consumer instance:`"
   ]
  },
  {
   "cell_type": "code",
   "execution_count": 4,
   "id": "b89f602d",
   "metadata": {
    "lines_to_next_cell": 2,
    "tags": []
   },
   "outputs": [],
   "source": [
    "# Create a buffer stock consumer instance by invoking the IndShockConsumerType class\n",
    "# with the parameter dictionary \"base_params\"\n",
    "\n",
    "base_params['cycles'] = 100  # periods to solve from end\n",
    "# Construct finite horizon agent with baseline parameters\n",
    "baseAgent_Fin = \\\n",
    "    IndShockConsumerType(**base_params,\n",
    "                         quietly=True)  # Don't say anything during setup\n",
    "\n",
    "baseAgent_Fin.solve(quietly=True)  # Solve the model quietly\n",
    "\n",
    "baseAgent_Fin.unpack('cFunc')  # Retrieve consumption functions\n",
    "cFunc = baseAgent_Fin.cFunc    # Shorthand"
   ]
  },
  {
   "cell_type": "markdown",
   "id": "30ab622d",
   "metadata": {},
   "source": [
    "`# Plot the consumption rules:`"
   ]
  },
  {
   "cell_type": "code",
   "execution_count": 5,
   "id": "1ff14479",
   "metadata": {
    "tags": []
   },
   "outputs": [
    {
     "name": "stdout",
     "output_type": "stream",
     "text": [
      "\n",
      "Saving figure cFuncsConverge in ./Figures\n"
     ]
    },
    {
     "data": {
      "image/png": "[encoded data removed]",
      "text/plain": [
       "<Figure size 864x648 with 1 Axes>"
      ]
     },
     "metadata": {},
     "output_type": "display_data"
    },
    {
     "name": "stdout",
     "output_type": "stream",
     "text": [
      "\n"
     ]
    }
   ],
   "source": [
    "# Plot the different consumption rules for the different periods\n",
    "\n",
    "mPlotMin = 0\n",
    "mLocCLabels = 9.6  # Defines horizontal limit of figure\n",
    "mPlotTop = 6.5    # Defines maximum m value where functions are plotted\n",
    "mPts = 1000      # Number of points at which functions are evaluated\n",
    "\n",
    "mBelwLabels = np.linspace(mPlotMin, mLocCLabels-0.1, mPts)  # Range of m below loc of labels\n",
    "m_FullRange = np.linspace(mPlotMin, mPlotTop, mPts)        # Full plot range\n",
    "# c_Tm0  defines the last period consumption rule (c=m)\n",
    "\n",
    "T = -1  # Solution in the last period\n",
    "c_Tm0 = m_FullRange\n",
    "# c_Tm1 defines the second-to-last period consumption rule\n",
    "c_Tm1 = cFunc[T-1](mBelwLabels)\n",
    "c_Tm5 = cFunc[T-5](mBelwLabels)  # c_Tm5 defines the T-5 period consumption rule\n",
    "c_Tm10 = cFunc[T-10](mBelwLabels)  # c_Tm10 defines the T-10 period consumption rule\n",
    "# c_Limt defines limiting inﬁnite-horizon consumption rule\n",
    "c_Limt = baseAgent_Fin.cFunc[0](mBelwLabels)\n",
    "\n",
    "plt.figure(figsize=(12, 9))\n",
    "plt.rcParams['font.size'], plt.rcParams['font.weight'] = fsmid, 'bold'\n",
    "\n",
    "xMin, xMax = 0, 11\n",
    "yMin, yMax = 0, 7\n",
    "plt.xlim(xMin, xMax)\n",
    "plt.ylim(yMin, yMax)\n",
    "\n",
    "plt.plot(mBelwLabels, c_Limt, color='black')\n",
    "plt.plot(mBelwLabels, c_Tm1, color='black')\n",
    "plt.plot(mBelwLabels, c_Tm5, color='black')\n",
    "plt.plot(mBelwLabels, c_Tm10, color='black')\n",
    "plt.plot(m_FullRange, c_Tm0, color='black')\n",
    "plt.text(yMax, yMax-1    , r'$c_{T   }(m) = 45$ degree line')\n",
    "#plt.text(yMax, yMax-1    , r'$c_{T   }(m) = 45 \\mathfrak{Fraktur}\\;\\mathbf{\\mathfrak{Fraktur}}$')\n",
    "plt.text(mLocCLabels, 5.3, r'$c_{T-1 }(m)$')\n",
    "plt.text(mLocCLabels, 2.6, r'$c_{T-5 }(m)$')\n",
    "plt.text(mLocCLabels, 2.1, r'$c_{T-10}(m)$')\n",
    "plt.text(mLocCLabels, 1.7, r'$c(m)       $')\n",
    "plt.arrow(6.9, 6.05, -0.6, 0, head_width=0.1, width=0.001,\n",
    "          facecolor='black', length_includes_head='True')\n",
    "plt.tick_params(labelbottom=False, labelleft=False, left='off',\n",
    "                right='off', bottom='off', top='off')\n",
    "plt.text(0, 7.05, \"$c$\", fontsize=fsbig)\n",
    "plt.text(xMax+0.1, 0, \"$m$\", fontsize=fsbig)\n",
    "\n",
    "# Save the figure\n",
    "\n",
    "makeFig('cFuncsConverge')  # Comment out if you want to run uninterrupted"
   ]
  },
  {
   "cell_type": "markdown",
   "id": "8f0cde3d",
   "metadata": {
    "slideshow": {
     "slide_type": "slide"
    }
   },
   "source": [
    "Use the [interactive dashboard](#interactive-dashboard) to explore the effects of changes in patience, risk aversion, or risk"
   ]
  },
  {
   "cell_type": "markdown",
   "id": "6a95e653",
   "metadata": {
    "tags": []
   },
   "source": [
    "## Factors and Conditions\n",
    "\n",
    "### [The Finite Human Wealth Condition](http://econ-ark.github.io/BufferStockTheory/#Human-Wealth)\n",
    "\n",
    "Human wealth for a perfect foresight consumer is the present discounted value of future noncapital income:\n",
    "\n",
    "\\begin{eqnarray}\\notag\n",
    "\\hLvl_{t} & = & \\Ex_{t}[\\pLvl_{t} + \\Rfree^{-1} \\pLvl_{t+1} + \\Rfree^{2} \\pLvl_{t+2} ... ] \\\\ \\notag\n",
    "      & = & \\pLvl_{t} \\left(1 + (\\PermGroFac/\\Rfree) + (\\PermGroFac/\\Rfree)^{2} ... \\right)\n",
    "\\end{eqnarray}\n",
    "\n",
    "which approaches infinity as the horizon extends if $\\PermGroFac/\\Rfree \\geq 1$.  We say that the 'Finite Human Wealth Condition' [(FHWC)](https://econ-ark.github.io/BufferStockTheory/#FHWC) holds if\n",
    "$0 \\leq (\\PermGroFac/\\Rfree) < 1$."
   ]
  },
  {
   "cell_type": "markdown",
   "id": "12f4e1de",
   "metadata": {
    "tags": []
   },
   "source": [
    "### [Absolute Patience and the AIC](https://econ-ark.github.io/BufferStockTheory/#AIC)\n",
    "\n",
    "The paper defines the Absolute Patience Factor [(APF)](https://econ-ark.github.io/BufferStockTheory/#APF) as being equal to the ratio $\\cLvl_{t+1}/\\cLvl_{t}$ for a perfect foresight consumer.  (The Old English character [Thorn](https://en.wikipedia.org/wiki/Thorn_(letter)) used for this object in the paper cannot reliably be rendered in Jupyter notebooks; it may appear as capital Phi):\n",
    "\n",
    "\\begin{equation}\n",
    "\\PatFac = (\\Rfree \\DiscFac)^{1/\\CRRA}\n",
    "\\end{equation}\n",
    "\n",
    "If $\\APF = 1$, a perfect foresight consumer will spend at exactly the level of $\\cLvl$ that can be sustained perpetually (given their current and future resources).  If $\\APF < 1$ (the consumer is 'absolutely impatient'; or, 'the absolute impatience condition holds'), the consumer is consuming more than the sustainable amount, so consumption will fall, and if the consumer is 'absolutely patient' with $\\APF > 1$ consumption will grow over time.\n",
    "\n"
   ]
  },
  {
   "cell_type": "markdown",
   "id": "d34da8c2",
   "metadata": {},
   "source": [
    "### [Growth Patience and the GICRaw](https://econ-ark.github.io/BufferStockTheory/#GIC)\n",
    "\n",
    "For a [perfect foresight consumer](https://www.econ2.jhu.edu/people/ccarroll/public/lecturenotes/consumption/PerfForesightCRRA), whether the ratio $c$=__**c**__/__**p**__ is rising, constant, or falling depends on the relative growth rates of consumption and permanent income; that ratio is measured by the [Perfect Foresight Growth Patience Factor](https://econ-ark.github.io/BufferStockTheory/#PFGPF):\n",
    "\n",
    "\\begin{eqnarray}\n",
    "\\APF_{\\PermGroFac} & = & \\APF/\\PermGroFac\n",
    "\\end{eqnarray}\n",
    "and whether the $c$ is falling or rising over time depends on whether $\\APF_{\\PermGroFac}$ is below or above 1.\n",
    "\n",
    "An analogous condition can be defined when there is uncertainty about permanent income.  Defining $\\tilde{\\PermGroFac} = (\\Ex[\\PermShk^{-1}])^{-1}\\PermGroFac$, the\n",
    "['Growth Impatience Condition'](https://econ-ark.github.io/BufferStockTheory/#GIC) determines whether, _in expectation_, the stochastic value of $c$ is rising, constant, or falling over time:\n",
    "\n",
    "\\begin{eqnarray}\n",
    "  \\APF/\\tilde{\\PermGroFac} & < & 1.\n",
    "\\end{eqnarray}\n",
    "\n",
    "### [The Finite Value of Autarky Condition (FVAC)](https://econ-ark.github.io/BufferStockTheory/#Autarky-Value)"
   ]
  },
  {
   "cell_type": "markdown",
   "id": "708b8de5",
   "metadata": {},
   "source": [
    "The paper [shows](https://econ-ark.github.io/BufferStockTheory/#Autarky-Value) that a consumer who planned to spend his permanent noncapital income $\\{ \\pLvl_{t}, \\pLvl_{t+1}, ...\\} $ in every period would have value defined by\n",
    "\n",
    "\\begin{equation*}\n",
    "\\vLvl_{t}^{\\text{autarky}} = \\uFunc(\\pLvl_{t})\\left(\\frac{1}{1-\\DiscFac \\PermGroFac^{1-\\CRRA} \\Ex[\\PermShk^{1-\\CRRA}]}\\right)\n",
    "\\end{equation*}\n",
    "\n",
    "and defines the ['Finite Value of Autarky Condition'](https://econ-ark.github.io/BufferStockTheory/#Autarky-Value) as the requirement that the denominator be a positive finite number:\n",
    "\n",
    "\\begin{equation*}\n",
    "\\DiscFac \\PermGroFac^{1-\\CRRA} \\Ex[\\PermShk^{1-\\CRRA}] < 1\n",
    "\\end{equation*}"
   ]
  },
  {
   "cell_type": "markdown",
   "id": "1c682bae",
   "metadata": {},
   "source": [
    "### [The Weak Return Impatience Condition (WRIC)](https://econ-ark.github.io/BufferStockTheory/#WRIC)\n",
    "\n",
    "The [Return Impatience Condition](https://econ-ark.github.io/BufferStockTheory/#RIC) $\\APF/\\Rfree < 1$ has long been understood to be required for the perfect foresight model to have a nondegenerate solution (a common special case is when $\\CRRA=1$; in this case $\\APF = \\Rfree \\DiscFac$ so $\\APF<1$ reduces to the familiar condition $\\DiscFac < \\Rfree$).\n",
    "\n",
    "If the RIC does not hold, the consumer is so patient that the optimal consumption function approaches zero as the horizon extends indefinitely.\n",
    "\n",
    "When the probability of unemployment is $\\UnempPrb$, the paper articulates an analogous (but weaker) return impatience condition:\n",
    "\n",
    "\\begin{eqnarray}\n",
    " \\UnempPrb^{1/\\CRRA} \\APF/\\Rfree & < & 1\n",
    "\\end{eqnarray}"
   ]
  },
  {
   "cell_type": "markdown",
   "id": "36531ba4",
   "metadata": {},
   "source": [
    "# Key Results\n",
    "\n",
    "## [Nondegenerate Solution Requires FVAC and WRIC](https://econ-ark.github.io/BufferStockTheory/#Sufficient-Conditions-For-Nondegenerate-Solution)\n",
    "\n",
    "A main result of the paper is that the conditions required for the model to have a nondegenerate limiting solution ($0 < c(m) < \\infty$ for feasible $m$) are that the Finite Value of Autarky (FVAC) and Weak Return Impatience Condition (WRIC) hold."
   ]
  },
  {
   "cell_type": "markdown",
   "id": "becd83f9",
   "metadata": {},
   "source": [
    "## [Natural Borrowing Constraint limits to Artificial Borrowing Constraint](https://econ-ark.github.io/BufferStockTheory/#The-Liquidity-Constrained-Solution-as-a-Limit)"
   ]
  },
  {
   "cell_type": "markdown",
   "id": "0ec47a65",
   "metadata": {},
   "source": [
    "Defining $\\chi(\\UnempPrb)$ as the consumption function associated with any particular probability of a zero-income shock $\\UnempPrb$, and defining $\\hat{\\chi}$ as the consumption function that would apply in the absence of the transitory zero-income shocks but in the presence of an 'artificial' borrowing constraint requiring $a \\geq 0$ (_a la_ Deaton (1991)), the paper shows that\n",
    "\n",
    "\\begin{eqnarray}\n",
    "\\lim_{\\UnempPrb \\downarrow 0}~\\chi(\\UnempPrb) & = & \\hat{\\chi}\n",
    "\\end{eqnarray}\n",
    "\n",
    "That is, as $\\UnempPrb$ approaches zero the problem with uncertainty becomes identical to the problem that instead has constraints.  (See [Precautionary Saving and Liquidity Constraints](https://econ-ark.github.io/LiqConstr) for a full treatment of the relationship between precautionary saving and liquidity constraints)."
   ]
  },
  {
   "cell_type": "markdown",
   "id": "9e121e52",
   "metadata": {},
   "source": [
    "## [$\\cFunc(m)$ can be Finite Even When Human Wealth Is Infinite](https://econ-ark.github.io/BufferStockTheory/#When-The-GICRaw-Fails)\n",
    "\n",
    "In the perfect foresight model, if $\\Rfree < \\PermGroFac$ the PDV of future labor income approaches infinity as the horizon extends and so the limiting consumption function is $c(m) = \\infty$ for all $m$.  Many models have no well-defined limiting solution when human wealth is infinite.\n",
    "\n",
    "The presence of uncertainty changes this: Even when limiting human wealth is infinite, the limiting consumption function is finite for all values of $m$.\n",
    "\n",
    "This is because uncertainty imposes a \"natural borrowing constraint\" that deters the consumer from borrowing against their unbounded (but uncertain) future labor income."
   ]
  },
  {
   "cell_type": "markdown",
   "id": "d64cf9f8",
   "metadata": {},
   "source": [
    "A [table](https://econ-ark.github.io/BufferStockTheory/#Sufficient-Conditions-For-Nondegenerate-Solution) puts this result in the context of implications of other conditions and restrictions.\n",
    "\n"
   ]
  },
  {
   "cell_type": "markdown",
   "id": "4b5e5448",
   "metadata": {},
   "source": [
    "## [Unique and Stable Values of $\\mNrm$](https://econ-ark.github.io/BufferStockTheory/#Unique-Stable-Points)\n",
    "\n",
    "Assuming that the **FVAC** and **WRIC** hold so that the problem has a nondegenerate solution, under more stringent conditions its dynamics can also be shown to exhibit certain kinds of stability.  Two particularly useful kinds of stability are existence of a 'target' value of market resources $\\Trg{\\mNrm}$ (`mNrmFacTrg` in the toolkit) and a 'pseudo-steady-state' value $\\Bal{\\mNrm}$ (`mBalLvl` in the toolkit).\n",
    "\n",
    "### [If the GIC-Nrm Holds, $\\exists$ a finite 'target' $\\mNrm$](https://econ-ark.github.io/BufferStockTheory/#onetarget)\n",
    "\n",
    "Section [Individual Target Wealth](https://econ-ark.github.io/BufferStockTheory/#onetarget) shows that, under parameter values for which the limiting consumption function exists, if the [GICNrm](https://econ-ark.github.io/BufferStockTheory/#GICNrm) holds then there will be a value $\\Trg{m}$ such that:\n",
    "\n",
    "\\begin{eqnarray*}\n",
    "\\Ex[m_{t+1}] & > & m_{t}~\\text{if $m_{t} < \\Trg{m}$} \\\\\n",
    "\\Ex[m_{t+1}] & < & m_{t}~\\text{if $m_{t} > \\Trg{m}$} \\\\\n",
    "\\Ex[m_{t+1}] & = & m_{t}~\\text{if $m_{t} = \\Trg{m}$}\n",
    "\\end{eqnarray*}\n",
    "\n",
    "[An equation](https://econ-ark.github.io/BufferStockTheory/#mTargImplicit) in the paper tells us that, for the expected normalized interest factor $\\bar{\\RNrm}=\\mathbb{E}[\\Rfree/(\\PermGroFac \\PermShk)]$, if $\\mNrm_{t}=\\Trg{m}$ then:\n",
    "\n",
    "\\begin{align}\n",
    "(\\Trg{\\mNrm}-\\cFunc(\\Trg{\\mNrm}))\\bar{\\RNrm}+1 & = \\Trg{\\mNrm}\n",
    "%\\\\ \\Trg{\\mNrm}(1-\\bar{\\RNrm}^{-1})+\\bar{\\RNrm}^{-1} & = \\Trg{\\cNrm}\n",
    "%\\\\ \\Trg{\\cNrm} & = \\Trg{\\mNrm} - (\\Trg{\\mNrm} - 1)\\bar{\\RNrm}^{-1}\n",
    "\\end{align}\n",
    "\n",
    "which can be solved numerically for the unique $\\Trg{\\mNrm}$ that satisfies it.\n",
    "\n",
    "### [If the GIC-Raw Holds, $\\exists$ a balanced growth 'pseudo-steady-state' $\\mNrm$](https://econ-ark.github.io/BufferStockTheory/#pseudo-steady-state)\n",
    "\n",
    "Section [Individual Balanced-Growth 'pseudo steady state'](https://econ-ark.github.io/BufferStockTheory/#pseudo-steady-state) shows that, under parameter values for which the limiting consumption function exists, if the **GIC** holds then there will be a value $\\Bal{m}$ such that:\n",
    "\n",
    "\\begin{eqnarray*}\n",
    "\\Ex_{t}[\\mLvl_{t+1}/\\mLvl_{t}] & > & \\PermGroFac~\\text{if $m_{t} < \\Bal{m}$} \\\\\n",
    "\\Ex_{t}[\\mLvl_{t+1}/\\mLvl_{t}] & < & \\PermGroFac~\\text{if $m_{t} > \\Bal{m}$} \\\\\n",
    "\\Ex_{t}[\\mLvl_{t+1}/\\mLvl_{t}] & = & \\PermGroFac~\\text{if $m_{t} = \\Bal{m}$}\n",
    "\\end{eqnarray*}\n",
    "\n",
    "[An equation](https://econ-ark.github.io/BufferStockTheory/#balgrostableSolve) in the paper tells us that if $\\mNrm_{t}=\\Bal{m}$ then:\n",
    "\n",
    "\\begin{align}\n",
    "(\\Bal{\\mNrm}-\\cFunc(\\Bal{\\mNrm}))\\RNrm+1 & = \\Bal{\\mNrm}\n",
    "\\end{align}\n",
    "\n",
    "which can be solved numerically for the unique $\\Bal{\\mNrm}$ that satisfies it.\n",
    "\n",
    "\n",
    "### [Example With Finite Pseudo-Steady-State But Infinite Target Wealth](https://econ-ark.github.io/BufferStockTheory/#GICNrmFailsButGICRawHolds)\n",
    "\n",
    "[A figure](https://econ-ark.github.io/BufferStockTheory/#GICNrmFailsButGICRawHolds) depicts a solution when the **FVAC** [(Finite Value of Autarky Condition)](https://econ-ark.github.io/BufferStockTheory/#FVAC) and [**WRIC**](https://econ-ark.github.io/BufferStockTheory/#FVAC) hold (so that the model has a solution), the [**GIC**](https://econ-ark.github.io/BufferStockTheory/#GICRaw) holds, so the model has a pseudo-steady-state $\\Bal{\\mNrm}$, but the [**GIC-Nrm**](https://econ-ark.github.io/BufferStockTheory/#GICNrm) fails, so the model does not have an individual target wealth ratio $\\Trg{\\mNrm}$ (or, rather, the target wealth ratio is infinity, as can be seen by the fact that the level of $\\cNrm$ is always below the level that would keep $\\Ex_{t}[\\Delta \\mNrm_{t+1}] = 0$).\n",
    "\n",
    "This example was constructed by quadrupling the variance of the permanent shocks from the baseline parameterization.  The extra precautionary saving induced by increased uncertainty is what pushes the agent into the region without a target wealth ratio."
   ]
  },
  {
   "cell_type": "markdown",
   "id": "c47f2a78",
   "metadata": {},
   "source": [
    "`# Create an example consumer instance where the GICNrm fails but the GIC Holds:`"
   ]
  },
  {
   "cell_type": "code",
   "execution_count": 7,
   "id": "7e2da824",
   "metadata": {
    "lines_to_next_cell": 0,
    "tags": []
   },
   "outputs": [
    {
     "name": "stderr",
     "output_type": "stream",
     "text": [
      "\n",
      "(quietly=False and messaging_level < logging.WARNING, so some model information is provided below):\n",
      "\n",
      "The model has the following parameter values:\n",
      "\n",
      "\tDiscFac: 0.96\n",
      "\tLivPrb: 1.0\n",
      "\tCRRA: 2.0\n",
      "\tRfree: 1.04\n",
      "\tPermGroFac: 1.03\n",
      "\tIncShkDstn: <HARK.distribution.DiscreteDistribution object at 0x7fa9781693d0>\n",
      "\tPermShkDstn: <HARK.distribution.DiscreteDistribution object at 0x7fa9884c0070>\n",
      "\tTranShkDstn: <HARK.distribution.DiscreteDistribution object at 0x7fa9885359d0>\n",
      "\tBoroCnstArt: None\n",
      "\tMaxKinks: None\n",
      "\tsolverType: HARK\n",
      "\tsolveMethod: EGM\n",
      "\teventTiming: EOP\n",
      "\thorizon: infinite\n",
      "\targs: ()\n",
      "\n",
      "The model's transition equations are:\n",
      "\n",
      "chosen_to_next_choice step:\n",
      "\tkNrm = aNrm\n",
      "\tRNrm = Rfree / (PermGroFac * PermShk)\n",
      "\tbNrm = kNrm * RNrm\n",
      "\tyNrm = TranShk\n",
      "\tmNrm = bNrm + yNrm\n",
      "\n",
      "choice_to_chosen step:\n",
      "\taNrm = mNrm - cNrm\n",
      "\n",
      "\n",
      "Because messaging_level is >= logging.INFO, infinite horizon conditions are reported below:\n",
      "\n",
      "\n",
      "The Absolute Patience Factor, APFac=0.99920 satisfies the Absolute Impatience Condition (AIC), APFac < 1:\n",
      "    https://econ-ark.github.io/BufferStockTheory/#AICDefn\n",
      "\n",
      "The Finite Human Wealth Factor, FHWFac=0.99038 satisfies the Finite Human Wealth Condition (FHWC), FHWFac < 1:\n",
      "    https://econ-ark.github.io/BufferStockTheory/#FHWCDefn\n",
      "\n",
      "The Return Patience Factor, RPFac=0.96077 satisfies the Return Impatience Condition (RIC), RPFac < 1:\n",
      "    https://econ-ark.github.io/BufferStockTheory/#RPFacDefn\n",
      "\n",
      "The Growth Patience Factor, GPF=0.97010 satisfies the Growth Impatience Condition (GICRaw), GPF < 1:\n",
      "    https://econ-ark.github.io/BufferStockTheory/#GICRawDefn\n",
      "\n",
      "The Normalized Growth Patience Factor GPFacNrm, GPFacNrm=1.00697 violates the Normalized Growth Impatience Condition (GICNrm), GPFacNrm < 1:\n",
      "    https://econ-ark.github.io/BufferStockTheory/#GICNrmDefn\n",
      "\n",
      "The Normalized Growth Patience Factor GPFacNrm, GPFacNrm=1.00697 violates the Normalized Growth Impatience Condition (GICNrm), GPFacNrm < 1:\n",
      "    https://econ-ark.github.io/BufferStockTheory/#GICNrmDefn\n",
      "    Therefore, a target ratio of individual market resources to individual permanent income does not exist.  \n",
      "\n",
      "\n",
      "The Mortality Adjusted Growth Patience Factor, GPFacLiv=0.97010 satisfies the Mortality Adjusted Growth Impatience Condition (GICLiv):\n",
      "    https://econ-ark.github.io/BufferStockTheory/#GPFacLivDefn\n",
      "\n",
      "The Mortality Adjusted Growth Patience Factor, GPFacLivMod=0.97010 satisfies the Mortality Adjusted Growth Impatience Condition (GICLivMod):\n",
      "    https://econ-ark.github.io/BufferStockTheory/#GPFacLivModDefn\n",
      "\n",
      "The Finite Value of Autarky Factor, VAFac=0.96000 satisfies the Finite Value of Autarky Condition, VAFac < 1:\n",
      "    https://econ-ark.github.io/BufferStockTheory/#FVACDefn\n"
     ]
    },
    {
     "name": "stdout",
     "output_type": "stream",
     "text": [
      "."
     ]
    }
   ],
   "source": [
    "# GICNrmFailsButGICRawHolds Example\n",
    "\n",
    "base_params['cycles'] = 0  # revert to default of infinite horizon\n",
    "GICNrmFailsButGICRawHolds_params = dict(base_params)\n",
    "\n",
    "# Increase patience by increasing risk\n",
    "GICNrmFailsButGICRawHolds_params['PermShkStd'] = [0.2]\n",
    "\n",
    "# Create an agent with these parameters\n",
    "GICNrmFailsButGICRawHolds = \\\n",
    "    IndShockConsumerType(**GICNrmFailsButGICRawHolds_params,\n",
    "                         quietly=False,  # If True, output suppressed\n",
    "                         )"
   ]
  },
  {
   "cell_type": "markdown",
   "id": "cfa26f38",
   "metadata": {},
   "source": [
    "`# Solve that consumer's problem:`"
   ]
  },
  {
   "cell_type": "code",
   "execution_count": 8,
   "id": "b89582a6",
   "metadata": {
    "tags": []
   },
   "outputs": [
    {
     "name": "stderr",
     "output_type": "stream",
     "text": [
      "\n",
      "The Absolute Patience Factor, APFac=0.99920 satisfies the Absolute Impatience Condition (AIC), APFac < 1:\n",
      "    https://econ-ark.github.io/BufferStockTheory/#AICDefn\n",
      "\n",
      "    Because the APFac < 1,  the absolute amount of consumption is expected to fall over time.  \n",
      "\n",
      "\n",
      "The Finite Human Wealth Factor, FHWFac=0.99038 satisfies the Finite Human Wealth Condition (FHWC), FHWFac < 1:\n",
      "    https://econ-ark.github.io/BufferStockTheory/#FHWCDefn\n",
      "\n",
      "    Therefore, the limiting consumption function is not c(m)=Infinity.\n",
      "\n",
      "    Human wealth normalized by permanent income is 104.00000.\n",
      "\n",
      "\n",
      "The Return Patience Factor, RPFac=0.96077 satisfies the Return Impatience Condition (RIC), RPFac < 1:\n",
      "    https://econ-ark.github.io/BufferStockTheory/#RPFacDefn\n",
      "\n",
      "    Therefore, the limiting consumption function is not c(m)=0 for all m\n",
      "\n",
      "\n",
      "The Growth Patience Factor, GPF=0.97010 satisfies the Growth Impatience Condition (GICRaw), GPF < 1:\n",
      "    https://econ-ark.github.io/BufferStockTheory/#GICRawDefn\n",
      "\n",
      "    Therefore, for a perfect foresight consumer, the ratio of individual wealth to permanent income is expected to fall indefinitely.    \n",
      "\n",
      "\n",
      "The Normalized Growth Patience Factor GPFacNrm, GPFacNrm=1.00697 violates the Normalized Growth Impatience Condition (GICNrm), GPFacNrm < 1:\n",
      "    https://econ-ark.github.io/BufferStockTheory/#GICNrmDefn\n",
      "\n",
      "    Therefore, a target ratio of individual market resources to individual permanent income does not exist.  \n",
      "\n",
      "\n",
      "The Normalized Growth Patience Factor GPFacNrm, GPFacNrm=1.00697 violates the Normalized Growth Impatience Condition (GICNrm), GPFacNrm < 1:\n",
      "    https://econ-ark.github.io/BufferStockTheory/#GICNrmDefn\n",
      "    Therefore, a target ratio of individual market resources to individual permanent income does not exist.  \n",
      "\n",
      "\n",
      "The Mortality Adjusted Growth Patience Factor, GPFacLiv=0.97010 satisfies the Mortality Adjusted Growth Impatience Condition (GICLiv):\n",
      "    https://econ-ark.github.io/BufferStockTheory/#GPFacLivDefn\n",
      "\n",
      "    Therefore, a target level of the ratio of aggregate market resources to aggregate permanent income exists.    \n",
      "https://econ-ark.github.io/BufferStockTheory/#GPFacLivDefn\n",
      "\n",
      "\n",
      "The Mortality Adjusted Growth Patience Factor, GPFacLivMod=0.97010 satisfies the Mortality Adjusted Growth Impatience Condition (GICLivMod):\n",
      "    https://econ-ark.github.io/BufferStockTheory/#GPFacLivModDefn\n",
      "\n",
      "    Therefore, a target level of the ratio of aggregate market resources to aggregate permanent income exists.    \n",
      "https://econ-ark.github.io/BufferStockTheory/#GPFacLivModDefn\n",
      "\n",
      "\n",
      "The Finite Value of Autarky Factor, VAFac=0.96000 satisfies the Finite Value of Autarky Condition, VAFac < 1:\n",
      "    https://econ-ark.github.io/BufferStockTheory/#FVACDefn\n",
      "\n",
      "    Therefore, a nondegenerate solution exists if the RIC also holds. (https://econ-ark.github.io/BufferStockTheory/#FVACDefn)\n",
      "\n",
      "Some parameter has changed since last update.\n",
      "Storing calculated consequences for grid etc.\n"
     ]
    },
    {
     "name": "stdout",
     "output_type": "stream",
     "text": [
      "Finished cycle # 000121 in  0.022216 seconds, solution distance = 1.440e+02\n",
      "Finished cycle # 000122 in  0.041705 seconds, solution distance = 4.039e-02\n",
      "Finished cycle # 000123 in  0.058877 seconds, solution distance = 3.797e-02\n",
      "Finished cycle # 000124 in  0.075229 seconds, solution distance = 3.576e-02\n",
      "Finished cycle # 000125 in  0.091785 seconds, solution distance = 3.372e-02\n",
      "Finished cycle # 000126 in  0.108102 seconds, solution distance = 3.181e-02\n",
      "Finished cycle # 000127 in  0.124204 seconds, solution distance = 3.003e-02\n",
      "Finished cycle # 000128 in  0.138838 seconds, solution distance = 2.836e-02\n",
      "Finished cycle # 000129 in  0.157514 seconds, solution distance = 2.679e-02\n",
      "Finished cycle # 000130 in  0.172956 seconds, solution distance = 2.533e-02\n",
      "Finished cycle # 000131 in  0.187472 seconds, solution distance = 2.395e-02\n",
      "Finished cycle # 000132 in  0.202969 seconds, solution distance = 2.266e-02\n",
      "Finished cycle # 000133 in  0.217009 seconds, solution distance = 2.144e-02\n",
      "Finished cycle # 000134 in  0.234777 seconds, solution distance = 2.030e-02\n",
      "Finished cycle # 000135 in  0.249927 seconds, solution distance = 1.922e-02\n",
      "Finished cycle # 000136 in  0.265727 seconds, solution distance = 1.821e-02\n",
      "Finished cycle # 000137 in  0.279834 seconds, solution distance = 1.726e-02\n",
      "Finished cycle # 000138 in  0.293109 seconds, solution distance = 1.636e-02\n",
      "Finished cycle # 000139 in  0.312161 seconds, solution distance = 1.551e-02\n",
      "Finished cycle # 000140 in  0.327147 seconds, solution distance = 1.471e-02\n",
      "Finished cycle # 000141 in  0.340540 seconds, solution distance = 1.395e-02\n",
      "Finished cycle # 000142 in  0.354256 seconds, solution distance = 1.324e-02\n",
      "Finished cycle # 000143 in  0.367424 seconds, solution distance = 1.256e-02\n",
      "Finished cycle # 000144 in  0.380601 seconds, solution distance = 1.192e-02\n",
      "Finished cycle # 000145 in  0.393946 seconds, solution distance = 1.132e-02\n",
      "Finished cycle # 000146 in  0.407360 seconds, solution distance = 1.075e-02\n",
      "Finished cycle # 000147 in  0.421451 seconds, solution distance = 1.021e-02\n",
      "Finished cycle # 000148 in  0.434382 seconds, solution distance = 9.700e-03\n",
      "Finished cycle # 000149 in  0.449273 seconds, solution distance = 9.217e-03\n",
      "Finished cycle # 000150 in  0.464573 seconds, solution distance = 8.759e-03\n",
      "Finished cycle # 000151 in  0.478750 seconds, solution distance = 8.326e-03\n",
      "Finished cycle # 000152 in  0.492303 seconds, solution distance = 7.915e-03\n",
      "Finished cycle # 000153 in  0.505758 seconds, solution distance = 7.525e-03\n",
      "Finished cycle # 000154 in  0.519130 seconds, solution distance = 7.156e-03\n",
      "Finished cycle # 000155 in  0.532067 seconds, solution distance = 6.805e-03\n",
      "Finished cycle # 000156 in  0.546492 seconds, solution distance = 6.473e-03\n",
      "Finished cycle # 000157 in  0.559865 seconds, solution distance = 6.158e-03\n",
      "Finished cycle # 000158 in  0.573065 seconds, solution distance = 5.859e-03\n",
      "Finished cycle # 000159 in  0.586104 seconds, solution distance = 5.575e-03\n",
      "Finished cycle # 000160 in  0.599810 seconds, solution distance = 5.305e-03\n",
      "Finished cycle # 000161 in  0.616174 seconds, solution distance = 5.049e-03\n",
      "Finished cycle # 000162 in  0.630296 seconds, solution distance = 4.806e-03\n",
      "Finished cycle # 000163 in  0.643571 seconds, solution distance = 4.574e-03\n",
      "Finished cycle # 000164 in  0.658130 seconds, solution distance = 4.355e-03\n",
      "Finished cycle # 000165 in  0.673062 seconds, solution distance = 4.146e-03\n",
      "Finished cycle # 000166 in  0.687740 seconds, solution distance = 3.948e-03\n",
      "Finished cycle # 000167 in  0.701375 seconds, solution distance = 3.759e-03\n",
      "Finished cycle # 000168 in  0.714497 seconds, solution distance = 3.580e-03\n",
      "Finished cycle # 000169 in  0.728250 seconds, solution distance = 3.409e-03\n",
      "Finished cycle # 000170 in  0.742991 seconds, solution distance = 3.247e-03\n",
      "Finished cycle # 000171 in  0.757689 seconds, solution distance = 3.092e-03\n",
      "Finished cycle # 000172 in  0.771314 seconds, solution distance = 2.945e-03\n",
      "Finished cycle # 000173 in  0.785303 seconds, solution distance = 2.806e-03\n",
      "Finished cycle # 000174 in  0.801854 seconds, solution distance = 2.673e-03\n",
      "Finished cycle # 000175 in  0.818278 seconds, solution distance = 2.546e-03\n",
      "Finished cycle # 000176 in  0.834833 seconds, solution distance = 2.426e-03\n",
      "Finished cycle # 000177 in  0.851238 seconds, solution distance = 2.311e-03\n",
      "Finished cycle # 000178 in  0.868562 seconds, solution distance = 2.202e-03\n",
      "Finished cycle # 000179 in  0.885570 seconds, solution distance = 2.098e-03\n",
      "Finished cycle # 000180 in  0.902443 seconds, solution distance = 1.999e-03\n",
      "Finished cycle # 000181 in  0.918776 seconds, solution distance = 1.905e-03\n",
      "Finished cycle # 000182 in  0.935316 seconds, solution distance = 1.815e-03\n",
      "Finished cycle # 000183 in  0.951931 seconds, solution distance = 1.729e-03\n",
      "Finished cycle # 000184 in  0.968709 seconds, solution distance = 1.648e-03\n",
      "Finished cycle # 000185 in  0.985537 seconds, solution distance = 1.570e-03\n",
      "Finished cycle # 000186 in  1.002013 seconds, solution distance = 1.496e-03\n",
      "Finished cycle # 000187 in  1.018424 seconds, solution distance = 1.426e-03\n",
      "Finished cycle # 000188 in  1.035516 seconds, solution distance = 1.359e-03\n",
      "Finished cycle # 000189 in  1.053128 seconds, solution distance = 1.295e-03\n",
      "Finished cycle # 000190 in  1.071102 seconds, solution distance = 1.234e-03\n",
      "Finished cycle # 000191 in  1.086589 seconds, solution distance = 1.176e-03\n",
      "Finished cycle # 000192 in  1.103894 seconds, solution distance = 1.120e-03\n",
      "Finished cycle # 000193 in  1.120000 seconds, solution distance = 1.067e-03\n",
      "Finished cycle # 000194 in  1.136804 seconds, solution distance = 1.017e-03\n",
      "Finished cycle # 000195 in  1.154206 seconds, solution distance = 9.691e-04\n",
      "Finished cycle # 000196 in  1.170932 seconds, solution distance = 9.234e-04\n",
      "Finished cycle # 000197 in  1.187178 seconds, solution distance = 8.798e-04\n",
      "Finished cycle # 000198 in  1.202517 seconds, solution distance = 8.382e-04\n",
      "Finished cycle # 000199 in  1.218427 seconds, solution distance = 7.986e-04\n",
      "Finished cycle # 000200 in  1.233615 seconds, solution distance = 7.608e-04\n",
      "Finished cycle # 000201 in  1.249198 seconds, solution distance = 7.248e-04\n",
      "Finished cycle # 000202 in  1.264924 seconds, solution distance = 6.904e-04\n",
      "Finished cycle # 000203 in  1.282114 seconds, solution distance = 6.577e-04\n",
      "Finished cycle # 000204 in  1.297955 seconds, solution distance = 6.265e-04\n",
      "Finished cycle # 000205 in  1.314636 seconds, solution distance = 5.967e-04\n",
      "Finished cycle # 000206 in  1.331332 seconds, solution distance = 5.683e-04\n",
      "Finished cycle # 000207 in  1.346807 seconds, solution distance = 5.412e-04\n",
      "Finished cycle # 000208 in  1.363202 seconds, solution distance = 5.153e-04\n",
      "Finished cycle # 000209 in  1.378395 seconds, solution distance = 4.907e-04\n",
      "Finished cycle # 000210 in  1.394227 seconds, solution distance = 4.672e-04\n",
      "Finished cycle # 000211 in  1.410449 seconds, solution distance = 4.448e-04\n",
      "Finished cycle # 000212 in  1.425560 seconds, solution distance = 4.234e-04\n",
      "Finished cycle # 000213 in  1.440771 seconds, solution distance = 4.031e-04\n",
      "Finished cycle # 000214 in  1.455953 seconds, solution distance = 3.836e-04\n",
      "Finished cycle # 000215 in  1.470771 seconds, solution distance = 3.651e-04\n",
      "Finished cycle # 000216 in  1.486271 seconds, solution distance = 3.474e-04\n",
      "Finished cycle # 000217 in  1.501286 seconds, solution distance = 3.305e-04\n",
      "Finished cycle # 000218 in  1.517972 seconds, solution distance = 3.144e-04\n",
      "Finished cycle # 000219 in  1.534728 seconds, solution distance = 2.991e-04\n",
      "Finished cycle # 000220 in  1.552739 seconds, solution distance = 2.845e-04\n",
      "Finished cycle # 000221 in  1.568441 seconds, solution distance = 2.705e-04\n",
      "Finished cycle # 000222 in  1.582893 seconds, solution distance = 2.572e-04\n",
      "Finished cycle # 000223 in  1.597720 seconds, solution distance = 2.445e-04\n",
      "Finished cycle # 000224 in  1.613015 seconds, solution distance = 2.324e-04\n",
      "Finished cycle # 000225 in  1.628022 seconds, solution distance = 2.208e-04\n",
      "Finished cycle # 000226 in  1.643013 seconds, solution distance = 2.098e-04\n",
      "Finished cycle # 000227 in  1.658493 seconds, solution distance = 1.993e-04\n",
      "Finished cycle # 000228 in  1.673395 seconds, solution distance = 1.893e-04\n",
      "Finished cycle # 000229 in  1.687737 seconds, solution distance = 1.798e-04\n",
      "Finished cycle # 000230 in  1.703752 seconds, solution distance = 1.707e-04\n",
      "Finished cycle # 000231 in  1.720137 seconds, solution distance = 1.620e-04\n",
      "Finished cycle # 000232 in  1.737768 seconds, solution distance = 1.537e-04\n",
      "Finished cycle # 000233 in  1.753138 seconds, solution distance = 1.458e-04\n",
      "Finished cycle # 000234 in  1.767916 seconds, solution distance = 1.382e-04\n",
      "Finished cycle # 000235 in  1.782706 seconds, solution distance = 1.311e-04\n",
      "Finished cycle # 000236 in  1.797128 seconds, solution distance = 1.242e-04\n",
      "Finished cycle # 000237 in  1.812666 seconds, solution distance = 1.177e-04\n",
      "Finished cycle # 000238 in  1.828434 seconds, solution distance = 1.115e-04\n",
      "Finished cycle # 000239 in  1.845149 seconds, solution distance = 1.055e-04\n",
      "Finished cycle # 000240 in  1.861387 seconds, solution distance = 9.988e-05\n",
      "Finished cycle # 000241 in  1.876321 seconds, solution distance = 9.449e-05\n",
      "Finished cycle # 000242 in  1.891184 seconds, solution distance = 8.935e-05\n",
      "Finished cycle # 000243 in  1.906591 seconds, solution distance = 8.445e-05\n",
      "Finished cycle # 000244 in  1.922362 seconds, solution distance = 7.978e-05\n",
      "Finished cycle # 000245 in  1.938811 seconds, solution distance = 7.533e-05\n",
      "Finished cycle # 000246 in  1.955428 seconds, solution distance = 7.109e-05\n",
      "Finished cycle # 000247 in  1.971065 seconds, solution distance = 6.705e-05\n",
      "Finished cycle # 000248 in  1.986174 seconds, solution distance = 6.320e-05\n",
      "Finished cycle # 000249 in  2.000266 seconds, solution distance = 5.953e-05\n",
      "Finished cycle # 000250 in  2.014995 seconds, solution distance = 5.604e-05\n",
      "Finished cycle # 000251 in  2.029696 seconds, solution distance = 5.271e-05\n",
      "Finished cycle # 000252 in  2.044246 seconds, solution distance = 4.954e-05\n",
      "Finished cycle # 000253 in  2.059477 seconds, solution distance = 4.652e-05\n",
      "Finished cycle # 000254 in  2.073562 seconds, solution distance = 4.365e-05\n",
      "Finished cycle # 000255 in  2.087920 seconds, solution distance = 4.091e-05\n",
      "Finished cycle # 000256 in  2.102319 seconds, solution distance = 3.831e-05\n",
      "Finished cycle # 000257 in  2.117568 seconds, solution distance = 3.583e-05\n",
      "Finished cycle # 000258 in  2.132207 seconds, solution distance = 3.361e-05\n",
      "Finished cycle # 000259 in  2.149456 seconds, solution distance = 3.151e-05\n",
      "Finished cycle # 000260 in  2.164688 seconds, solution distance = 2.950e-05\n",
      "Finished cycle # 000261 in  2.179127 seconds, solution distance = 2.759e-05\n",
      "Finished cycle # 000262 in  2.194027 seconds, solution distance = 2.580e-05\n",
      "Finished cycle # 000263 in  2.208543 seconds, solution distance = 2.418e-05\n",
      "Finished cycle # 000264 in  2.223055 seconds, solution distance = 2.264e-05\n",
      "Finished cycle # 000265 in  2.237076 seconds, solution distance = 2.117e-05\n",
      "Finished cycle # 000266 in  2.251891 seconds, solution distance = 1.977e-05\n",
      "Finished cycle # 000267 in  2.266210 seconds, solution distance = 1.851e-05\n",
      "Finished cycle # 000268 in  2.279991 seconds, solution distance = 1.732e-05\n",
      "Finished cycle # 000269 in  2.293718 seconds, solution distance = 1.619e-05\n",
      "Finished cycle # 000270 in  2.307096 seconds, solution distance = 1.511e-05\n",
      "Finished cycle # 000271 in  2.321509 seconds, solution distance = 1.413e-05\n",
      "Finished cycle # 000272 in  2.336112 seconds, solution distance = 1.322e-05\n",
      "Finished cycle # 000273 in  2.351330 seconds, solution distance = 1.235e-05\n",
      "Finished cycle # 000274 in  2.365961 seconds, solution distance = 1.152e-05\n",
      "Finished cycle # 000275 in  2.379662 seconds, solution distance = 1.077e-05\n",
      "Finished cycle # 000276 in  2.393080 seconds, solution distance = 1.007e-05\n",
      "Finished cycle # 000277 in  2.406725 seconds, solution distance = 9.396e-06\n",
      "\n",
      "distance_now < distance_original: True\n",
      "......................................................................................................................................................................................................................."
     ]
    },
    {
     "name": "stderr",
     "output_type": "stream",
     "text": [
      "\n",
      "(quietly=False and messaging_level < logging.WARNING, so some model information is provided below):\n",
      "\n",
      "The model has the following parameter values:\n",
      "\n",
      "\tDiscFac: 0.96\n",
      "\tLivPrb: 1.0\n",
      "\tCRRA: 2.0\n",
      "\tRfree: 1.04\n",
      "\tPermGroFac: 1.03\n",
      "\tIncShkDstn: <HARK.distribution.DiscreteDistribution object at 0x7fa97817fdc0>\n",
      "\tPermShkDstn: <HARK.distribution.DiscreteDistribution object at 0x7fa9994a8730>\n",
      "\tTranShkDstn: <HARK.distribution.DiscreteDistribution object at 0x7fa9a8d8f040>\n",
      "\tBoroCnstArt: None\n",
      "\tMaxKinks: None\n",
      "\tsolverType: HARK\n",
      "\tsolveMethod: EGM\n",
      "\teventTiming: EOP\n",
      "\thorizon: infinite\n",
      "\targs: ()\n",
      "\n",
      "The model's transition equations are:\n",
      "\n",
      "chosen_to_next_choice step:\n",
      "\tkNrm = aNrm\n",
      "\tRNrm = Rfree / (PermGroFac * PermShk)\n",
      "\tbNrm = kNrm * RNrm\n",
      "\tyNrm = TranShk\n",
      "\tmNrm = bNrm + yNrm\n",
      "\n",
      "choice_to_chosen step:\n",
      "\taNrm = mNrm - cNrm\n",
      "\n",
      "\n",
      "Because messaging_level is >= logging.INFO, infinite horizon conditions are reported below:\n",
      "\n",
      "\n",
      "The Absolute Patience Factor, APFac=0.99920 satisfies the Absolute Impatience Condition (AIC), APFac < 1:\n",
      "    https://econ-ark.github.io/BufferStockTheory/#AICDefn\n",
      "\n",
      "    Because the APFac < 1,  the absolute amount of consumption is expected to fall over time.  \n",
      "\n",
      "\n",
      "The Finite Human Wealth Factor, FHWFac=0.99038 satisfies the Finite Human Wealth Condition (FHWC), FHWFac < 1:\n",
      "    https://econ-ark.github.io/BufferStockTheory/#FHWCDefn\n",
      "\n",
      "    Therefore, the limiting consumption function is not c(m)=Infinity.\n",
      "\n",
      "    Human wealth normalized by permanent income is 104.00000.\n",
      "\n",
      "\n",
      "The Return Patience Factor, RPFac=0.96077 satisfies the Return Impatience Condition (RIC), RPFac < 1:\n",
      "    https://econ-ark.github.io/BufferStockTheory/#RPFacDefn\n",
      "\n",
      "    Therefore, the limiting consumption function is not c(m)=0 for all m\n",
      "\n",
      "\n",
      "The Growth Patience Factor, GPF=0.97010 satisfies the Growth Impatience Condition (GICRaw), GPF < 1:\n",
      "    https://econ-ark.github.io/BufferStockTheory/#GICRawDefn\n",
      "\n",
      "    Therefore, for a perfect foresight consumer, the ratio of individual wealth to permanent income is expected to fall indefinitely.    \n",
      "\n",
      "\n",
      "The Normalized Growth Patience Factor GPFacNrm, GPFacNrm=1.00697 violates the Normalized Growth Impatience Condition (GICNrm), GPFacNrm < 1:\n",
      "    https://econ-ark.github.io/BufferStockTheory/#GICNrmDefn\n",
      "\n",
      "    Therefore, a target ratio of individual market resources to individual permanent income does not exist.  \n",
      "\n",
      "\n",
      "The Normalized Growth Patience Factor GPFacNrm, GPFacNrm=1.00697 violates the Normalized Growth Impatience Condition (GICNrm), GPFacNrm < 1:\n",
      "    https://econ-ark.github.io/BufferStockTheory/#GICNrmDefn\n",
      "    Therefore, a target ratio of individual market resources to individual permanent income does not exist.  \n",
      "\n",
      "\n",
      "The Mortality Adjusted Growth Patience Factor, GPFacLiv=0.97010 satisfies the Mortality Adjusted Growth Impatience Condition (GICLiv):\n",
      "    https://econ-ark.github.io/BufferStockTheory/#GPFacLivDefn\n",
      "\n",
      "    Therefore, a target level of the ratio of aggregate market resources to aggregate permanent income exists.    \n",
      "https://econ-ark.github.io/BufferStockTheory/#GPFacLivDefn\n",
      "\n",
      "\n",
      "The Mortality Adjusted Growth Patience Factor, GPFacLivMod=0.97010 satisfies the Mortality Adjusted Growth Impatience Condition (GICLivMod):\n",
      "    https://econ-ark.github.io/BufferStockTheory/#GPFacLivModDefn\n",
      "\n",
      "    Therefore, a target level of the ratio of aggregate market resources to aggregate permanent income exists.    \n",
      "https://econ-ark.github.io/BufferStockTheory/#GPFacLivModDefn\n",
      "\n",
      "\n",
      "The Finite Value of Autarky Factor, VAFac=0.96000 satisfies the Finite Value of Autarky Condition, VAFac < 1:\n",
      "    https://econ-ark.github.io/BufferStockTheory/#FVACDefn\n",
      "\n",
      "    Therefore, a nondegenerate solution exists if the RIC also holds. (https://econ-ark.github.io/BufferStockTheory/#FVACDefn)\n",
      "\n"
     ]
    },
    {
     "name": "stdout",
     "output_type": "stream",
     "text": [
      "..\n",
      "distance_now < distance_original: True\n"
     ]
    }
   ],
   "source": [
    "# Solve the model for these parameter values\n",
    "GICNrmFailsButGICRawHolds.tolerance = 0.0001   # How close is enough\n",
    "\n",
    "GICNrmFailsButGICRawHolds.solve(quietly=True)  # Suppress output\n",
    "\n",
    "# Because we are trying to solve a problem very close to the critical patience\n",
    "# values, we want to do it with extra precision to be sure we've gotten the\n",
    "# answer right.  We can retrieve the distance between the last two solutions:\n",
    "\n",
    "distance_original = GICNrmFailsButGICRawHolds.solution[0].distance_last\n",
    "\n",
    "# But high precision would have slowed things down if we used it from the start\n",
    "\n",
    "# Instead, we can take the solution obtained above, and continue it but with\n",
    "# parameters that will yield a more precise answer:\n",
    "\n",
    "# Solve with quadruple the normal range\n",
    "GICNrmFailsButGICRawHolds.aXtraMax = GICNrmFailsButGICRawHolds.aXtraMax * 10\n",
    "\n",
    "# Solve over four times as many gridpoints\n",
    "GICNrmFailsButGICRawHolds.aXtraCount = GICNrmFailsButGICRawHolds.aXtraCount * 4\n",
    "\n",
    "GICNrmFailsButGICRawHolds.update_assets_grid()\n",
    "\n",
    "# Solve to a 10 times tighter degree of error tolerance\n",
    "GICNrmFailsButGICRawHolds.tolerance = GICNrmFailsButGICRawHolds.tolerance/10\n",
    "\n",
    "# When the solver reaches its tolerance threshold, it changes the solver\n",
    "# attribute stge_kind to have 'iter_status' of 'finished'\n",
    "# If we want to continue the solution (having changed something, as above)\n",
    "# To continue the solution from where we left off, we just change the\n",
    "# 'iter_status' to 'iterator' and tell it to \".solve()\" again\n",
    "\n",
    "GICNrmFailsButGICRawHolds.solution[0].stge_kind['iter_status'] = 'iterator'\n",
    "# continue solving\n",
    "\n",
    "# Setting messaging_level to NOTSET prints all info including progress\n",
    "GICNrmFailsButGICRawHolds.solve(messaging_level=logging.NOTSET, quietly=False)\n",
    "\n",
    "# Test whether the new solution meets a tighter tolerance than before:\n",
    "distance_now = GICNrmFailsButGICRawHolds.solution[0].distance_last\n",
    "print('\\ndistance_now < distance_original: ' +\n",
    "      str(distance_now < distance_original))\n",
    "\n",
    "# Again increase the range\n",
    "GICNrmFailsButGICRawHolds.aXtraMax = GICNrmFailsButGICRawHolds.aXtraMax * 10\n",
    "\n",
    "# and gridpoints\n",
    "GICNrmFailsButGICRawHolds.aXtraCount = GICNrmFailsButGICRawHolds.aXtraCount * 2\n",
    "\n",
    "GICNrmFailsButGICRawHolds.update_assets_grid()\n",
    "\n",
    "# and decrease error tolerance\n",
    "GICNrmFailsButGICRawHolds.tolerance = GICNrmFailsButGICRawHolds.tolerance/10\n",
    "\n",
    "GICNrmFailsButGICRawHolds.solution[0].stge_kind['iter_status'] = 'iterator'\n",
    "# continue solving\n",
    "GICNrmFailsButGICRawHolds.solve(messaging_level=logging.DEBUG, quietly=False)\n",
    "\n",
    "# Test whether the new solution meets a tighter tolerance than before:\n",
    "distance_now = GICNrmFailsButGICRawHolds.solution[0].distance_last\n",
    "print('\\ndistance_now < distance_original: ' +\n",
    "      str(distance_now < distance_original))"
   ]
  },
  {
   "cell_type": "markdown",
   "id": "f7751c09",
   "metadata": {},
   "source": [
    "`# Plot the results:`"
   ]
  },
  {
   "cell_type": "code",
   "execution_count": 9,
   "id": "021182d1",
   "metadata": {
    "lines_to_next_cell": 2,
    "tags": []
   },
   "outputs": [
    {
     "name": "stdout",
     "output_type": "stream",
     "text": [
      "\n",
      "Saving figure GICNrmFailsButGICRawHolds in ./Figures\n"
     ]
    },
    {
     "data": {
      "image/png": "[encoded data removed]",
      "text/plain": [
       "<Figure size 864x576 with 1 Axes>"
      ]
     },
     "metadata": {},
     "output_type": "display_data"
    },
    {
     "name": "stdout",
     "output_type": "stream",
     "text": [
      "\n",
      "Finite mBalLvl but infinite mNrmFacTrg\n"
     ]
    }
   ],
   "source": [
    "# Plot https://econ-ark.github.io/BufferStockTheory/#GICNrmFailsButGICRawHolds\n",
    "\n",
    "soln = GICNrmFailsButGICRawHolds.solution[0]  # Short alias for solution\n",
    "\n",
    "# Get objects that have been Built, parameters configured, and expectations \n",
    "Bilt, Pars, E_tp1_ = soln.Bilt, soln.Pars, soln.E_Next_\n",
    "\n",
    "# consumption function\n",
    "cFunc = Bilt.cFunc\n",
    "\n",
    "# Initialize figure setup\n",
    "fig, ax = plt.subplots(figsize=(12, 8))\n",
    "\n",
    "[xMin, xMax] = [0.0, 8.0]\n",
    "yMin = 0.0\n",
    "yMax = E_tp1_.c_where_E_Next_m_tp1_minus_m_t_eq_0(xMax)*1.3\n",
    "\n",
    "mPltVals = np.linspace(xMin, xMax, mPts)\n",
    "\n",
    "if latexExists:\n",
    "    c_Stable_Trg_txt = \"$\\Ex_{t}[\\Delta m_{t+1}] = 0$\"\n",
    "    c_Stable_Bal_txt = \"$\\Ex_{t}[{\\mathbf{m}}_{t+1}/{\\mathbf{m}}_{t}] = \\PermGroFac$\"\n",
    "else:\n",
    "    c_Stable_Trg_txt = \"$\\mathsf{E}_{t}[\\Delta m_{t+1}] = 0$\"\n",
    "    c_Stable_Bal_txt = \"$\\mathsf{E}_{t}[\\mathbf{m}_{t+1}/\\mathbf{m}_{t}] = \\PermGroFac$\"\n",
    "\n",
    "cVals_Lmting_color = \"black\"\n",
    "c_Stable_Bal_color = \"black\"  # or \"blue\"\n",
    "c_Stable_Trg_color = \"black\"  # or \"red\"\n",
    "\n",
    "cVals_Lmting = cFunc(mPltVals)\n",
    "c_Stable_Trg = E_tp1_.c_where_E_Next_m_tp1_minus_m_t_eq_0(mPltVals)\n",
    "c_Stable_Bal = E_tp1_.c_where_E_Next_PermShk_tp1_times_m_tp1_minus_m_t_eq_0(\n",
    "    mPltVals)\n",
    "\n",
    "cVals_Lmting_lbl, = ax.plot(mPltVals, cVals_Lmting, color=cVals_Lmting_color)\n",
    "c_Stable_Trg_lbl, = ax.plot(mPltVals, c_Stable_Trg,\n",
    "                            color=c_Stable_Trg_color, linestyle=\"dashed\", label=c_Stable_Trg_txt)\n",
    "c_Stable_Bal_lbl, = ax.plot(mPltVals, c_Stable_Bal,\n",
    "                            color=c_Stable_Bal_color, linestyle=\"dotted\", label=c_Stable_Bal_txt)\n",
    "\n",
    "ax.set_xlim(xMin, xMax)\n",
    "ax.set_ylim(yMin, yMax)\n",
    "ax.set_xlabel(\"$\\mathit{m}$\", fontweight='bold', fontsize=fsmid, loc=\"right\")\n",
    "ax.set_ylabel(\"$\\mathit{c}$\", fontweight='bold', fontsize=fsmid, loc=\"top\", rotation=0)\n",
    "\n",
    "ax.tick_params(labelbottom=False, labelleft=False, left='off',\n",
    "               right='off', bottom='off', top='off')\n",
    "\n",
    "ax.legend(handles=[c_Stable_Trg_lbl, c_Stable_Bal_lbl])\n",
    "ax.legend(prop=dict(size=fsmid))\n",
    "\n",
    "mBalLvl = Bilt.mBalLvl\n",
    "cNrmFacBal = c_Stable_Bal = cFunc(mBalLvl)\n",
    "\n",
    "ax.plot(mBalLvl, cNrmFacBal, marker=\".\", markersize=15, color=\"black\")  # Dot at Bal point\n",
    "ax.text(1, 0.6, \"$\\mathrm{c}(m_{t})$\", fontsize=fsmid)  # label cFunc\n",
    "\n",
    "if latexExists:\n",
    "    ax.text(mBalLvl+0.02, cNrmFacBal-0.10, r\"$\\nwarrow$\", fontsize=fsmid)\n",
    "    ax.text(mBalLvl+0.25, cNrmFacBal-0.18, r\"$\\hat{m}~$\", fontsize=fsmid)\n",
    "else:\n",
    "    ax.text(mBalLvl+0.02, cNrmFacBal-0.10, r\"$\\nwarrow$\", fontsize=fsmid)\n",
    "    ax.text(mBalLvl+0.25, cNrmFacBal-0.18, r\"$\\check{m}~$\", fontsize=fsmid)\n",
    "\n",
    "makeFig('GICNrmFailsButGICRawHolds')\n",
    "print('Finite mBalLvl but infinite mNrmFacTrg')"
   ]
  },
  {
   "cell_type": "markdown",
   "id": "698c0223",
   "metadata": {},
   "source": [
    "In the [interactive dashboard](#interactive-dashboard), see what happens as changes in the time preference rate (or changes in risk $\\PermShkStd$) change the consumer from _normalized-growth-patient_ $(\\APF > \\tilde{\\PermGroFac})$ to _normalized-growth-impatient_ ($\\APF < \\tilde{\\PermGroFac}$)"
   ]
  },
  {
   "cell_type": "markdown",
   "id": "004aa147",
   "metadata": {},
   "source": [
    "As a foundation for the remaining figures, we define another instance of the class $\\texttt{IndShockConsumerType}$, which has the same parameter values as the instance $\\texttt{baseAgent}$ defined previously but is solved to convergence (our definition of an infinite horizon agent type) instead of only 100 periods"
   ]
  },
  {
   "cell_type": "markdown",
   "id": "71c5f639",
   "metadata": {},
   "source": [
    "`# Construct infinite horizon solution for consumer with baseline parameters:`"
   ]
  },
  {
   "cell_type": "code",
   "execution_count": 10,
   "id": "a0b6188e",
   "metadata": {
    "lines_to_next_cell": 2,
    "tags": []
   },
   "outputs": [
    {
     "name": "stderr",
     "output_type": "stream",
     "text": [
      "\n",
      "The Absolute Patience Factor, APFac=0.99920 satisfies the Absolute Impatience Condition (AIC), APFac < 1:\n",
      "    https://econ-ark.github.io/BufferStockTheory/#AICDefn\n",
      "\n",
      "The Finite Human Wealth Factor, FHWFac=0.99038 satisfies the Finite Human Wealth Condition (FHWC), FHWFac < 1:\n",
      "    https://econ-ark.github.io/BufferStockTheory/#FHWCDefn\n",
      "\n",
      "The Return Patience Factor, RPFac=0.96077 satisfies the Return Impatience Condition (RIC), RPFac < 1:\n",
      "    https://econ-ark.github.io/BufferStockTheory/#RPFacDefn\n",
      "\n",
      "The Growth Patience Factor, GPF=0.97010 satisfies the Growth Impatience Condition (GICRaw), GPF < 1:\n",
      "    https://econ-ark.github.io/BufferStockTheory/#GICRawDefn\n",
      "\n",
      "The Normalized Growth Patience Factor GPFacNrm, GPFacNrm=0.97920 satisfies the Normalized Growth Impatience Condition (GICNrm), GPFacNrm < 1:\n",
      "    https://econ-ark.github.io/BufferStockTheory/#GICNrmDefn\n",
      "\n",
      "The Mortality Adjusted Growth Patience Factor, GPFacLiv=0.97010 satisfies the Mortality Adjusted Growth Impatience Condition (GICLiv):\n",
      "    https://econ-ark.github.io/BufferStockTheory/#GPFacLivDefn\n",
      "\n",
      "The Mortality Adjusted Growth Patience Factor, GPFacLivMod=0.97010 satisfies the Mortality Adjusted Growth Impatience Condition (GICLivMod):\n",
      "    https://econ-ark.github.io/BufferStockTheory/#GPFacLivModDefn\n",
      "\n",
      "The Finite Value of Autarky Factor, VAFac=0.96000 satisfies the Finite Value of Autarky Condition, VAFac < 1:\n",
      "    https://econ-ark.github.io/BufferStockTheory/#FVACDefn\n"
     ]
    }
   ],
   "source": [
    "# Find the infinite horizon solution\n",
    "\n",
    "base_params['aXtraCount'] = base_params['aXtraCount'] * 20\n",
    "base_params['CubicBool'] = False\n",
    "base_params['cycles'] = 0  # Default for infinite horizon model\n",
    "\n",
    "baseAgent_Inf = IndShockConsumerType(\n",
    "    **base_params,\n",
    "    horizon='infinite',  # Infinite horizon\n",
    "    quietly=True)  # construct it silently"
   ]
  },
  {
   "cell_type": "markdown",
   "id": "b5e5865b",
   "metadata": {
    "tags": []
   },
   "source": [
    "### [Expected Consumption Growth, and Permanent Income Growth](https://econ-ark.github.io/BufferStockTheory/#AnalysisoftheConvergedConsumptionFunction)\n",
    "\n",
    "The next figure, [Analysis of the Converged Consumption Function](https://econ-ark.github.io/BufferStockTheory/#cNrmTargetFig), shows expected growth factors for the levels of consumption $\\cLvl$ and market resources $\\mLvl$ as a function of the market resources ratio $\\mNrm$ for a consumer behaving according to the converged consumption rule, along with the growth factor for $\\mNrm$ itself, and the (constant) growth factors for consumption and expected permanent income, $\\APF$ and $\\PermGroFac$.\n",
    "\n",
    "The growth factor for consumption can be computed without knowing the _level_ of the consumer's permanent income:\n",
    "\n",
    "\\begin{eqnarray*}\n",
    "\\Ex_{t}[\\cLvl_{t+1}/\\cLvl_{t}] & = & \\Ex_{t}\\left[\\frac{\\pLvl_{t+1}\\cFunc(m_{t+1})}{\\pLvl_{t}\\cFunc(m_{t})}\\right] \\\\\n",
    "% & = & \\Ex_{t}\\left[\\frac{\\PermGroFac \\PermShk_{t+1} \\pLvl_{t}}{\\pLvl_{t}}\\frac{\\cFunc(m_{t+1})}{\\cFunc(m_{t})}\\right] \\\\\n",
    "& = & \\left[\\frac{\\PermGroFac \\PermShk_{t+1} \\cFunc(m_{t+1})}{\\cFunc(m_{t})}\\right]\n",
    "\\end{eqnarray*}"
   ]
  },
  {
   "cell_type": "markdown",
   "id": "0188c348",
   "metadata": {
    "tags": []
   },
   "source": [
    "and similarly the growth factor for market resources is:\n",
    "\n",
    "\\begin{eqnarray*}\n",
    "\\Ex_{t}[\\mLvl_{t+1}/\\mLvl_{t}]\n",
    "& = & \\Ex_{t}\\left[\\frac{\\PermGroFac \\PermShk_{t+1} \\mNrm_{t+1}} {\\mNrm_{t}} \\right]\n",
    "\\\\ & = & \\Ex_{t}\\left[\\frac{\\PermGroFac \\PermShk_{t+1} (\\aNrm_{t}\\Rfree/(\\PermGroFac \\PermShk_{t+1}))+\\PermGroFac \\PermShk_{t+1}\\TranShk_{t+1}}\n",
    "{\\mNrm_{t}}\\right]\n",
    "\\\\ & = & \\Ex_{t}\\left[\\frac{\\PermGroFac (\\aNrm_{t}\\RNrm+\\PermShk_{t+1}\\TranShk_{t+1})}\n",
    "{\\mNrm_{t}}\\right]\n",
    "\\\\ & = & \\PermGroFac \\left[\\frac{\\aNrm_{t}\\RNrm+1}{\\mNrm_{t}}\\right]\n",
    "\\end{eqnarray*}"
   ]
  },
  {
   "cell_type": "markdown",
   "id": "764125a0",
   "metadata": {},
   "source": [
    "For $\\mNrm$ things are only slightly more complicated:\n",
    "\\begin{eqnarray*}\n",
    "\\Ex_{t}[m_{t+1}]\n",
    "& = & \\Ex_{t}\\left[(m_{t}-c_{t})(\\Rfree/(\\PermShk_{t+1}\\PermGroFac)) +\\TranShk_{t+1}\\right]\\\\\n",
    "& = & a_{t}\\Rfree\\Ex_{t}\\left[(\\PermShk_{t+1}\\PermGroFac)^{-1}\\right] +1 \\\\\n",
    "\\Ex_{t}\\left[\\frac{m_{t+1}}{m_{t}}\\right] & = & \\left(\\frac{a_{t}\\Rfree\\Ex_{t}\\left[(\\PermShk_{t+1}\\PermGroFac)^{-1}\\right]+1}{\\mNrm_{t}}\\right)\n",
    "\\end{eqnarray*}"
   ]
  },
  {
   "cell_type": "markdown",
   "id": "53d5b7a1",
   "metadata": {
    "tags": []
   },
   "source": [
    "<!-- The expectation of the growth in the log of $\\mLvl$ is a downward-adjusted value of the log of the growth factor:\n",
    "\\begin{eqnarray*}\n",
    "\\Ex_{t}[\\log(\\mLvl_{t+1}/\\mLvl_{t})]\n",
    "& = & \\Ex_{t}\\left[\\log \\PermGroFac \\PermShk_{t+1} \\mNrm_{t+1}\\right] - \\log \\mNrm_{t}\n",
    "\\\\ & = & \\Ex_{t}\\left[\\log \\PermGroFac \\left(\\PermShk_{t+1} (\\aNrm_{t}\\Rfree/(\\PermGroFac \\PermShk_{t+1}))+\\PermShk_{t+1}\\TranShk_{t+1}\\right)\\right]-\\log \\mNrm_{t}\n",
    "\\\\ & = & \\Ex_{t}\\left[\\log \\PermGroFac (\\aNrm_{t}\\RNrm+\\PermShk_{t+1}\\TranShk_{t+1}+1-1)\\right] - \\log \n",
    "{\\mNrm_{t}}\n",
    "\\\\ & = & \n",
    "\\log \\left(\\PermGroFac \n",
    "(\\aNrm_{t}\\RNrm+1)\\Ex_{t}\\left[\\left(\n",
    "1+\\frac{\\PermShk_{t+1}\\TranShk_{t+1}-1}{(\\aNrm_{t}\\RNrm+1)}\n",
    "\\right)\n",
    "\\right]\\right) - \\log {\\mNrm_{t}}\n",
    "\\\\ & = & \\log \\underbrace{\\PermGroFac \\left[\\frac{\\aNrm_{t}\\RNrm+1}{\\mNrm_{t}}\\right]}_{\\Ex_{t}[\\mLvl_{t+1}/\\mLvl_{t}]}+\n",
    "\\log \\Ex_{t}\\left[\\left(1+\n",
    "\\frac{\\PermShk_{t+1}\\TranShk_{t+1}-1}{(\\aNrm_{t}\\RNrm+1)}\n",
    "\\right)\n",
    "\\right]\n",
    "\\end{eqnarray*}\n",
    "-->"
   ]
  },
  {
   "cell_type": "markdown",
   "id": "d2530e7b",
   "metadata": {},
   "source": [
    "`# Solve problem of consumer with baseline parameters:`"
   ]
  },
  {
   "cell_type": "code",
   "execution_count": 11,
   "id": "1e689ed6",
   "metadata": {
    "pycharm": {
     "name": "#%%\n"
    },
    "tags": []
   },
   "outputs": [
    {
     "name": "stderr",
     "output_type": "stream",
     "text": [
      "\n",
      "The Absolute Patience Factor, APFac=1.00439 violates the Absolute Impatience Condition (AIC), APFac < 1:\n",
      "    https://econ-ark.github.io/BufferStockTheory/#AICDefn\n",
      "\n",
      "The Finite Human Wealth Factor, FHWFac=0.99038 satisfies the Finite Human Wealth Condition (FHWC), FHWFac < 1:\n",
      "    https://econ-ark.github.io/BufferStockTheory/#FHWCDefn\n",
      "\n",
      "The Return Patience Factor, RPFac=0.96576 satisfies the Return Impatience Condition (RIC), RPFac < 1:\n",
      "    https://econ-ark.github.io/BufferStockTheory/#RPFacDefn\n",
      "\n",
      "The Growth Patience Factor, GPF=0.97514 satisfies the Growth Impatience Condition (GICRaw), GPF < 1:\n",
      "    https://econ-ark.github.io/BufferStockTheory/#GICRawDefn\n",
      "\n",
      "The Normalized Growth Patience Factor GPFacNrm, GPFacNrm=0.98429 satisfies the Normalized Growth Impatience Condition (GICNrm), GPFacNrm < 1:\n",
      "    https://econ-ark.github.io/BufferStockTheory/#GICNrmDefn\n",
      "\n",
      "The Mortality Adjusted Growth Patience Factor, GPFacLiv=0.97514 satisfies the Mortality Adjusted Growth Impatience Condition (GICLiv):\n",
      "    https://econ-ark.github.io/BufferStockTheory/#GPFacLivDefn\n",
      "\n",
      "The Mortality Adjusted Growth Patience Factor, GPFacLivMod=0.97514 satisfies the Mortality Adjusted Growth Impatience Condition (GICLivMod):\n",
      "    https://econ-ark.github.io/BufferStockTheory/#GPFacLivModDefn\n",
      "\n",
      "The Finite Value of Autarky Factor, VAFac=0.97000 satisfies the Finite Value of Autarky Condition, VAFac < 1:\n",
      "    https://econ-ark.github.io/BufferStockTheory/#FVACDefn\n"
     ]
    },
    {
     "name": "stdout",
     "output_type": "stream",
     "text": [
      ".........................................................................................................."
     ]
    },
    {
     "name": "stderr",
     "output_type": "stream",
     "text": [
      "\n",
      "(quietly=False and messaging_level < logging.WARNING, so some model information is provided below):\n",
      "\n",
      "The model has the following parameter values:\n",
      "\n",
      "\tDiscFac: 0.97\n",
      "\tLivPrb: 1.0\n",
      "\tCRRA: 2.0\n",
      "\tRfree: 1.04\n",
      "\tPermGroFac: 1.03\n",
      "\tIncShkDstn: <HARK.distribution.DiscreteDistribution object at 0x7fa9781a5400>\n",
      "\tPermShkDstn: <HARK.distribution.DiscreteDistribution object at 0x7fa9a8e026d0>\n",
      "\tTranShkDstn: <HARK.distribution.DiscreteDistribution object at 0x7fa9a8dc6d90>\n",
      "\tBoroCnstArt: None\n",
      "\tMaxKinks: None\n",
      "\tsolverType: HARK\n",
      "\tsolveMethod: EGM\n",
      "\teventTiming: EOP\n",
      "\thorizon: infinite\n",
      "\targs: ()\n",
      "\n",
      "The model's transition equations are:\n",
      "\n",
      "chosen_to_next_choice step:\n",
      "\tkNrm = aNrm\n",
      "\tRNrm = Rfree / (PermGroFac * PermShk)\n",
      "\tbNrm = kNrm * RNrm\n",
      "\tyNrm = TranShk\n",
      "\tmNrm = bNrm + yNrm\n",
      "\n",
      "choice_to_chosen step:\n",
      "\taNrm = mNrm - cNrm\n",
      "\n",
      "\n",
      "Because messaging_level is >= logging.INFO, infinite horizon conditions are reported below:\n",
      "\n",
      "\n",
      "The Absolute Patience Factor, APFac=1.00439 violates the Absolute Impatience Condition (AIC), APFac < 1:\n",
      "    https://econ-ark.github.io/BufferStockTheory/#AICDefn\n",
      "\n",
      "The Finite Human Wealth Factor, FHWFac=0.99038 satisfies the Finite Human Wealth Condition (FHWC), FHWFac < 1:\n",
      "    https://econ-ark.github.io/BufferStockTheory/#FHWCDefn\n",
      "\n",
      "The Return Patience Factor, RPFac=0.96576 satisfies the Return Impatience Condition (RIC), RPFac < 1:\n",
      "    https://econ-ark.github.io/BufferStockTheory/#RPFacDefn\n",
      "\n",
      "The Growth Patience Factor, GPF=0.97514 satisfies the Growth Impatience Condition (GICRaw), GPF < 1:\n",
      "    https://econ-ark.github.io/BufferStockTheory/#GICRawDefn\n",
      "\n",
      "The Normalized Growth Patience Factor GPFacNrm, GPFacNrm=0.98429 satisfies the Normalized Growth Impatience Condition (GICNrm), GPFacNrm < 1:\n",
      "    https://econ-ark.github.io/BufferStockTheory/#GICNrmDefn\n",
      "\n",
      "The Mortality Adjusted Growth Patience Factor, GPFacLiv=0.97514 satisfies the Mortality Adjusted Growth Impatience Condition (GICLiv):\n",
      "    https://econ-ark.github.io/BufferStockTheory/#GPFacLivDefn\n",
      "\n",
      "The Mortality Adjusted Growth Patience Factor, GPFacLivMod=0.97514 satisfies the Mortality Adjusted Growth Impatience Condition (GICLivMod):\n",
      "    https://econ-ark.github.io/BufferStockTheory/#GPFacLivModDefn\n",
      "\n",
      "The Finite Value of Autarky Factor, VAFac=0.97000 satisfies the Finite Value of Autarky Condition, VAFac < 1:\n",
      "    https://econ-ark.github.io/BufferStockTheory/#FVACDefn\n"
     ]
    },
    {
     "name": "stdout",
     "output_type": "stream",
     "text": [
      "...."
     ]
    }
   ],
   "source": [
    "# Solve baseline parameters agent\n",
    "tweaked_params = deepcopy(base_params)\n",
    "tweaked_params['DiscFac'] = 0.970  # Tweak to make figure clearer\n",
    "baseAgent_Inf = IndShockConsumerType(\n",
    "    **tweaked_params, quietly=True)  # construct it silently\n",
    "\n",
    "baseAgent_Inf.solve(\n",
    "    quietly=False, messaging_level=logging.INFO)  # Solve it with info"
   ]
  },
  {
   "cell_type": "markdown",
   "id": "b8ae1d9d",
   "metadata": {},
   "source": [
    "`# Plot growth factors for various model elements at steady state:`"
   ]
  },
  {
   "cell_type": "code",
   "execution_count": 12,
   "id": "c1ecd01d",
   "metadata": {
    "tags": []
   },
   "outputs": [
    {
     "name": "stdout",
     "output_type": "stream",
     "text": [
      "\n",
      "Saving figure cNrmTargetFig in ./Figures\n"
     ]
    },
    {
     "data": {
      "image/png": "[encoded data removed]",
      "text/plain": [
       "<Figure size 864x576 with 1 Axes>"
      ]
     },
     "metadata": {
      "needs_background": "light"
     },
     "output_type": "display_data"
    },
    {
     "name": "stdout",
     "output_type": "stream",
     "text": [
      "\n"
     ]
    }
   ],
   "source": [
    "# Plot growth rates\n",
    "\n",
    "soln = baseAgent_Inf.solution[0]\n",
    "\n",
    "# Built, parameters, expectations\n",
    "Bilt, Pars, E_Next_ = soln.Bilt, soln.Pars, soln.E_Next_\n",
    "\n",
    "# Retrieve parameters (makes code more readable)\n",
    "Rfree, DiscFac, CRRA, G = Pars.Rfree, Pars.DiscFac, Pars.CRRA, Pars.PermGroFac\n",
    "\n",
    "color_cons, color_mrktLev, color_mrktNrm, color_perm, color_mLogGroExp = \\\n",
    "    \"blue\", \"red\", \"green\", \"black\", \"orange\"\n",
    "\n",
    "mPlotMin, mCalcMax, mPlotMax = 1.0, 50, 1.8\n",
    "\n",
    "# Get steady state equilibrium and target values for m\n",
    "mBalLvl, mNrmFacTrg = Bilt.mBalLvl, Bilt.mTrgNrm\n",
    "\n",
    "pts_num = 200  # Plot this many points\n",
    "\n",
    "m_pts = np.linspace(mPlotMin, mPlotMax, pts_num)   # values of m for plot\n",
    "c_pts = soln.cFunc(m_pts)                   # values of c for plot\n",
    "a_pts = m_pts - c_pts                       # values of a\n",
    "\n",
    "# Get ingredients for calculating growth factors, then calculate them\n",
    "Ex_cLvl_tp1_Over_pLvl_t = [ \n",
    "    soln.E_Next_.cLvl_tp1_Over_pLvl_t_from_a_t(a) for a in a_pts]\n",
    "Ex_mLvl_tp1_Over_pLvl_t = [\n",
    "    soln.E_Next_.mLvl_tp1_Over_pLvl_t_from_a_t(a) for a in a_pts]\n",
    "Ex_mLog_tp1_minus_mLog_t_from_m_t = [\n",
    "    soln.E_Next_.mLog_tp1_minus_mLog_t_from_m_t(m) for m in m_pts]\n",
    "Ex_m_tp1_from_a_t = [\n",
    "    soln.E_Next_.m_tp1_from_a_t(a) for a in a_pts]\n",
    "\n",
    "Ex_cLvlGroFac = np.array(Ex_cLvl_tp1_Over_pLvl_t)/c_pts\n",
    "Ex_mLvlGroFac = np.array(Ex_mLvl_tp1_Over_pLvl_t)/m_pts\n",
    "Ex_mNrmGroFac = np.array(Ex_m_tp1_from_a_t)/m_pts\n",
    "Ex_mLogGroExp = np.exp(Ex_mLog_tp1_minus_mLog_t_from_m_t)\n",
    "\n",
    "# Absolute Patience Factor = lower bound of consumption growth factor\n",
    "# https://econ-ark.github.io/BufferStockTheory/#APF\n",
    "APFac = Bilt.APFac\n",
    "\n",
    "# Init figure and axes\n",
    "fig, ax = plt.subplots(figsize=(12, 8))\n",
    "plt.rcParams['font.size'], plt.rcParams['font.weight'] = fsmid, 'bold'\n",
    "\n",
    "# Plot the Absolute Patience Factor line\n",
    "ax.plot([0, mPlotMax], [APFac, APFac], color=color_cons)\n",
    "\n",
    "# Plot the Permanent Income Growth Factor line\n",
    "ax.plot([0, mPlotMax], [G, G]    , color=color_perm)\n",
    "\n",
    "# Plot the expected consumption growth factor\n",
    "ax.plot(m_pts, Ex_cLvlGroFac        , color=color_cons)\n",
    "\n",
    "# Plot expected growth for the level of market resources\n",
    "ax.plot(m_pts, Ex_mLvlGroFac        , color=color_mrktLev)\n",
    "\n",
    "# Plot expected growth for the market resources ratio\n",
    "ax.plot(m_pts, Ex_mNrmGroFac        , color=color_mrktNrm)\n",
    "\n",
    "# To reduce clutter, the exponentiated log growth is left out\n",
    "#ax.plot(m_pts, Ex_mLogGroExp        , color=color_mLogGroExp)\n",
    "\n",
    "# Axes limits\n",
    "GroFacMin, GroFacMax, xMin = 0.976, 1.06, 1.1\n",
    "# GroFacMin, GroFacMax, xMin = 0.001, 100.0, 0.01\n",
    "ax.set_xlim(xMin, mPlotMax * 1.1)\n",
    "ax.set_ylim(GroFacMin, GroFacMax)\n",
    "\n",
    "Thorn = u\"\\u00DE\"\n",
    "\n",
    "# If latex installed on system, plotting can look better\n",
    "if latexExists:\n",
    "    mNrmFacTrg_lbl = r'$1.00 = \\Ex_{t}[\\mNrm_{t+1}/\\mNrm_{t}]:~ \\Trg{m} \\rightarrow~~$'\n",
    "    PermGro_lbl = r\"$\\PermGroFac$\"\n",
    "    cLvlGroFac_lbl = r\"$\\Ex_{t}[\\cLvl_{t+1}/\\cLvl_{t}]$\"\n",
    "    mNrmGroFac_lbl = r\"$\\Ex_{t}[\\mNrm_{t+1}/\\mNrm_{t}] ^{\\nearrow}$\"\n",
    "    mLvlGroFac_lbl = r\"$\\Ex_{t}[\\mLvl_{t+1}/\\mLvl_{t}]$\"\n",
    "    mBalLvl_lbl = r\"$\\check{\\mNrm}_{\\searrow}~$\"    \n",
    "    cLvlAPFac_lbl = r'$\\pmb{\\text{\\TH}} = (\\Rfree\\DiscFac)^{1/\\CRRA}$'\n",
    "else:\n",
    "    mNrmFacTrg_lbl = r'$\\mathsf{E}_{t}[m_{t+1}/m_{t}]:~ \\hat{m} \\rightarrow~~$'\n",
    "    PermGro_lbl = r\"$\\PermGroFac$\"\n",
    "    cLvlGroFac_lbl = r\"$\\mathsf{E}_{t}[\\mathbf{c}_{t+1}/\\mathbf{c}_{t}]$\"\n",
    "    mNrmGroFac_lbl = r\"$\\mathsf{E}_{t}[m_{t+1}/m_{t}]^{\\nearrow}$\"\n",
    "    mLvlGroFac_lbl = r\"$\\mathsf{E}_{t}[\\mathbf{m}_{t+1}/\\mathbf{m}_{t}]$\"\n",
    "    mBalLvl_lbl = r\"$m\\check_{\\searrow}$\"    \n",
    "    cLvlAPFac_lbl = Thorn + r'$= (\\mathsf{R}\\beta)^{1/\\rho}$'\n",
    "\n",
    "\n",
    "if mNrmFacTrg:  # Do not try to plot it if it does not exist!\n",
    "    ax.text(mNrmFacTrg-0.01, 1.0-0.001, \n",
    "            mNrmFacTrg_lbl, ha='right')\n",
    "\n",
    "ax.plot(mBalLvl, G  , marker=\".\", markersize=12, color=\"black\")  # Dot at mBalLvl \n",
    "ax.plot(mNrmFacTrg, 1.0, marker=\".\", markersize=12, color=\"black\")  # Dot at mNrmFacTrg \n",
    "\n",
    "mLvlGroFac_lbl_xVal = mPlotMax\n",
    "mLvlGroFac_lbl_yVal = soln.E_Next_.mLvl_tp1_Over_mLvl_t(mLvlGroFac_lbl_xVal)\n",
    "\n",
    "mNrmGroFac_lbl_xVal = 0.92*mNrmFacTrg\n",
    "mNrmGroFac_lbl_yVal = soln.E_Next_.m_tp1_Over_m_t(mNrmGroFac_lbl_xVal)\n",
    "\n",
    "ax.text(mPlotMax+0.01, G-0.001,PermGro_lbl)\n",
    "ax.text(mPlotMax+0.01, Ex_cLvlGroFac[-1]  ,cLvlGroFac_lbl)\n",
    "ax.text(mPlotMax+0.01, APFac-0.001       ,cLvlAPFac_lbl)\n",
    "ax.text(mBalLvl-0.06, G+0.001,mBalLvl_lbl              ,va='bottom',ha='left')\n",
    "ax.text(mNrmGroFac_lbl_xVal-0.01, mNrmGroFac_lbl_yVal-0.003,mNrmGroFac_lbl,va='bottom',ha='right')\n",
    "ax.text(mLvlGroFac_lbl_xVal+0.01, mLvlGroFac_lbl_yVal+0.001,mLvlGroFac_lbl,va='top')\n",
    "\n",
    "# Ticks\n",
    "ax.tick_params(labelbottom=True, labelleft=True, left='off', right='on', bottom='on', top='off')\n",
    "plt.setp(ax.get_yticklabels(), fontsize=fssml)\n",
    "\n",
    "# Label the mNrmFacTrg with vertical lines\n",
    "plt.axvline(x=mNrmFacTrg,label='Individual Target', linestyle='dotted')\n",
    "plt.legend()\n",
    "ax.set_ylabel('Growth Factors')\n",
    "makeFig('cNrmTargetFig')"
   ]
  },
  {
   "cell_type": "markdown",
   "id": "593220f8",
   "metadata": {
    "tags": []
   },
   "source": [
    "### [Consumption Function Bounds](https://econ-ark.github.io/BufferStockTheory/#AnalysisOfTheConvergedConsumptionFunction)\n",
    "[The next figure](https://econ-ark.github.io/BufferStockTheory/#cFuncBounds)\n",
    "illustrates theoretical bounds for the consumption function.\n",
    "\n",
    "We define two useful variables: the lower bound of $\\tilde{\\MPC}$ (marginal propensity to consume) and the limit of $h$ (Human wealth), along with some functions such as the limiting perfect foresight consumption function $\\bar{c}(m)$, the upper bound function $\\bar{\\bar c}(m)$, and the lower bound function $\\tilde{c}$(m)."
   ]
  },
  {
   "cell_type": "markdown",
   "id": "9256345b",
   "metadata": {
    "tags": []
   },
   "source": [
    "`# Define bounds for figure:`"
   ]
  },
  {
   "cell_type": "code",
   "execution_count": 13,
   "id": "4ddfd6eb",
   "metadata": {
    "tags": []
   },
   "outputs": [
    {
     "name": "stderr",
     "output_type": "stream",
     "text": [
      "\n",
      "The Absolute Patience Factor, APFac=0.99920 satisfies the Absolute Impatience Condition (AIC), APFac < 1:\n",
      "    https://econ-ark.github.io/BufferStockTheory/#AICDefn\n",
      "\n",
      "The Finite Human Wealth Factor, FHWFac=0.99038 satisfies the Finite Human Wealth Condition (FHWC), FHWFac < 1:\n",
      "    https://econ-ark.github.io/BufferStockTheory/#FHWCDefn\n",
      "\n",
      "The Return Patience Factor, RPFac=0.96077 satisfies the Return Impatience Condition (RIC), RPFac < 1:\n",
      "    https://econ-ark.github.io/BufferStockTheory/#RPFacDefn\n",
      "\n",
      "The Growth Patience Factor, GPF=0.97010 satisfies the Growth Impatience Condition (GICRaw), GPF < 1:\n",
      "    https://econ-ark.github.io/BufferStockTheory/#GICRawDefn\n",
      "\n",
      "The Normalized Growth Patience Factor GPFacNrm, GPFacNrm=0.97920 satisfies the Normalized Growth Impatience Condition (GICNrm), GPFacNrm < 1:\n",
      "    https://econ-ark.github.io/BufferStockTheory/#GICNrmDefn\n",
      "\n",
      "The Mortality Adjusted Growth Patience Factor, GPFacLiv=0.97010 satisfies the Mortality Adjusted Growth Impatience Condition (GICLiv):\n",
      "    https://econ-ark.github.io/BufferStockTheory/#GPFacLivDefn\n",
      "\n",
      "The Mortality Adjusted Growth Patience Factor, GPFacLivMod=0.97010 satisfies the Mortality Adjusted Growth Impatience Condition (GICLivMod):\n",
      "    https://econ-ark.github.io/BufferStockTheory/#GPFacLivModDefn\n",
      "\n",
      "The Finite Value of Autarky Factor, VAFac=0.96000 satisfies the Finite Value of Autarky Condition, VAFac < 1:\n",
      "    https://econ-ark.github.io/BufferStockTheory/#FVACDefn\n",
      "\n",
      "The Absolute Patience Factor, APFac=0.99920 satisfies the Absolute Impatience Condition (AIC), APFac < 1:\n",
      "    https://econ-ark.github.io/BufferStockTheory/#AICDefn\n",
      "\n",
      "    Because the APFac < 1,  the absolute amount of consumption is expected to fall over time.  \n",
      "\n",
      "\n",
      "The Finite Human Wealth Factor, FHWFac=0.99038 satisfies the Finite Human Wealth Condition (FHWC), FHWFac < 1:\n",
      "    https://econ-ark.github.io/BufferStockTheory/#FHWCDefn\n",
      "\n",
      "    Therefore, the limiting consumption function is not c(m)=Infinity.\n",
      "\n",
      "    Human wealth normalized by permanent income is 104.00000.\n",
      "\n",
      "\n",
      "The Return Patience Factor, RPFac=0.96077 satisfies the Return Impatience Condition (RIC), RPFac < 1:\n",
      "    https://econ-ark.github.io/BufferStockTheory/#RPFacDefn\n",
      "\n",
      "    Therefore, the limiting consumption function is not c(m)=0 for all m\n",
      "\n",
      "\n",
      "The Growth Patience Factor, GPF=0.97010 satisfies the Growth Impatience Condition (GICRaw), GPF < 1:\n",
      "    https://econ-ark.github.io/BufferStockTheory/#GICRawDefn\n",
      "\n",
      "    Therefore, for a perfect foresight consumer, the ratio of individual wealth to permanent income is expected to fall indefinitely.    \n",
      "\n",
      "\n",
      "The Normalized Growth Patience Factor GPFacNrm, GPFacNrm=0.97920 satisfies the Normalized Growth Impatience Condition (GICNrm), GPFacNrm < 1:\n",
      "    https://econ-ark.github.io/BufferStockTheory/#GICNrmDefn\n",
      "\n",
      "    Therefore, a target level of the individual market resources ratio m exists.\n",
      "\n",
      "The Mortality Adjusted Growth Patience Factor, GPFacLiv=0.97010 satisfies the Mortality Adjusted Growth Impatience Condition (GICLiv):\n",
      "    https://econ-ark.github.io/BufferStockTheory/#GPFacLivDefn\n",
      "\n",
      "    Therefore, a target level of the ratio of aggregate market resources to aggregate permanent income exists.    \n",
      "https://econ-ark.github.io/BufferStockTheory/#GPFacLivDefn\n",
      "\n",
      "\n",
      "The Mortality Adjusted Growth Patience Factor, GPFacLivMod=0.97010 satisfies the Mortality Adjusted Growth Impatience Condition (GICLivMod):\n",
      "    https://econ-ark.github.io/BufferStockTheory/#GPFacLivModDefn\n",
      "\n",
      "    Therefore, a target level of the ratio of aggregate market resources to aggregate permanent income exists.    \n",
      "https://econ-ark.github.io/BufferStockTheory/#GPFacLivModDefn\n",
      "\n",
      "\n",
      "The Finite Value of Autarky Factor, VAFac=0.96000 satisfies the Finite Value of Autarky Condition, VAFac < 1:\n",
      "    https://econ-ark.github.io/BufferStockTheory/#FVACDefn\n",
      "\n",
      "    Therefore, a nondegenerate solution exists if the RIC also holds. (https://econ-ark.github.io/BufferStockTheory/#FVACDefn)\n",
      "\n"
     ]
    }
   ],
   "source": [
    "# Define mpc_Min, h_inf and PF consumption function, upper and lower bound of c function\n",
    "\n",
    "baseAgent_Inf = IndShockConsumerType(**base_params, quietly=True)  # construct it silently\n",
    "baseAgent_Inf.solve(quietly=True)  # Solve it with info\n",
    "soln = baseAgent_Inf.solution[0]\n",
    "\n",
    "UnempPrb = Pars.IncShkDstn.parameters['UnempPrb']\n",
    "\n",
    "# Return Patience Factor\n",
    "RPFacRaw = ((Rfree * DiscFac)**(1.0/CRRA)/Rfree)\n",
    "RPFac = baseAgent_Inf.solution[0].Bilt.RPFac\n",
    "\n",
    "# https://econ-ark.github.io/BufferStockTheory/BufferStockTheory3.html#MPCminDefn\n",
    "mpc_Min = 1.0-RPFac \n",
    "# https://econ-ark.github.io/BufferStockTheory/BufferStockTheory3.html#MPCmaxDefn\n",
    "mpc_Max = 1.0 - (UnempPrb**(1/CRRA)) * RPFac\n",
    "# https://econ-ark.github.io/BufferStockTheory/BufferStockTheory3.html#hNrmDefn\n",
    "h_inf = (1.0/(1.0-G/Rfree))\n",
    "\n",
    "def cFunc_Uncnst(m): return mpc_Min * m + (h_inf - 1) * mpc_Min\n",
    "def cFunc_TopBnd(m): return mpc_Max * m\n",
    "def cFunc_BotBnd(m): return mpc_Min * m"
   ]
  },
  {
   "cell_type": "markdown",
   "id": "f21c2a8e",
   "metadata": {},
   "source": [
    "`# Plot figure showing bounds`"
   ]
  },
  {
   "cell_type": "code",
   "execution_count": 17,
   "id": "16ee4ae7",
   "metadata": {
    "lines_to_next_cell": 2,
    "tags": []
   },
   "outputs": [
    {
     "name": "stdout",
     "output_type": "stream",
     "text": [
      "\n",
      "Saving figure cFuncBounds in ./Figures\n"
     ]
    },
    {
     "data": {
      "image/png": "[encoded data removed]",
      "text/plain": [
       "<Figure size 864x576 with 1 Axes>"
      ]
     },
     "metadata": {},
     "output_type": "display_data"
    },
    {
     "name": "stdout",
     "output_type": "stream",
     "text": [
      "\n"
     ]
    }
   ],
   "source": [
    "# Plot the consumption function and its bounds\n",
    "\n",
    "cMaxLabel = r'$\\overline{c}(m)= (m-1+h)\\tilde{\\kappa}$'\n",
    "cMinLabel = r'Lower Bound: $\\tilde{c}(m)= (1-\\pmb{\\text{\\TH}}_{R})\\tilde{\\kappa}m$'\n",
    "if not latexExists:\n",
    "    cMaxLabel = r'$\\bar{c}(m) = (m-1+h)\\kappa$'  # Use unicode kludge\n",
    "    cMinLabel = r'Lower Bound: c̲$(m)= (1-$'+Thorn+r'$_{R})m = \\kappa m$'\n",
    "\n",
    "mPlotMin = 0.0\n",
    "mPlotMax = 25\n",
    "# mKnk is point where the two upper bounds meet\n",
    "mKnk = ((h_inf-1) * mpc_Min)/((1 - UnempPrb**(1.0/CRRA)*(Rfree*DiscFac)**(1.0/CRRA)/Rfree)-mpc_Min)\n",
    "mBelwKnkPts = 300\n",
    "mAbveKnkPts = 700\n",
    "mBelwKnk = np.linspace(mPlotMin, mKnk, mBelwKnkPts)\n",
    "mAbveKnk = np.linspace(mKnk, mPlotMax, mAbveKnkPts)\n",
    "mFullPts = np.linspace(mPlotMin, mPlotMax, mBelwKnkPts+mAbveKnkPts)\n",
    "\n",
    "plt.figure(figsize=(12, 8))\n",
    "cTopMult = 1.12\n",
    "plt.plot(mFullPts, soln.cFunc(mFullPts), color=\"black\")\n",
    "plt.plot(mBelwKnk, cFunc_Uncnst(mBelwKnk), color=\"black\", linestyle=\"--\")\n",
    "plt.plot(mAbveKnk, cFunc_Uncnst(mAbveKnk), color=\"black\", linewidth=2.5)\n",
    "plt.plot(mBelwKnk, cFunc_TopBnd(mBelwKnk), color=\"black\", linewidth=2.5)\n",
    "plt.plot(mAbveKnk, cFunc_TopBnd(mAbveKnk), color=\"black\", linestyle=\"--\")\n",
    "plt.plot(mBelwKnk, cFunc_BotBnd(mBelwKnk), color=\"black\", linewidth=2.5)\n",
    "plt.plot(mAbveKnk, cFunc_BotBnd(mAbveKnk), color=\"black\", linewidth=2.5)\n",
    "plt.tick_params(labelbottom=False, labelleft=False, left='off',\n",
    "                right='off', bottom='off', top='off')\n",
    "plt.xlim(mPlotMin, mPlotMax)\n",
    "plt.ylim(mPlotMin, cTopMult*cFunc_Uncnst(mPlotMax))\n",
    "plt.text(mPlotMin, cTopMult*cFunc_Uncnst(mPlotMax)+0.05, \"$c$\", fontsize=22)\n",
    "plt.text(mPlotMax+0.1, mPlotMin, \"$m$\", fontsize=22)\n",
    "plt.text(2.5, 1, r'$c(m)$', fontsize=22, fontweight='bold')\n",
    "upper_upper_bound_m = 4.6\n",
    "if latexExists:\n",
    "    plt.text(upper_upper_bound_m+0.6, cFunc_TopBnd(upper_upper_bound_m+0.5), r'$\\leftarrow \\overline{\\overline{c}}(m)= \\overline{\\MPC}m = (1-\\UnempPrb^{1/\\CRRA}\\pmb{\\text{\\TH}}_{R})m$',\n",
    "             fontsize=22, fontweight='bold')\n",
    "else:\n",
    "    plt.text(upper_upper_bound_m+0.6, cFunc_TopBnd(upper_upper_bound_m+0.5), r'$\\overline{\\overline{c}}(m)= \\overline{\\kappa}m = (1-\\wp^{1/\\rho}$'+Thorn+'$_{R})m$',\n",
    "             fontsize=22, fontweight='bold')\n",
    "upper_bound_m = 12\n",
    "plt.text(\n",
    "    upper_bound_m, cFunc_Uncnst(upper_bound_m)-0.3, r'Upper Bound $ = $ Min $[\\overline{\\overline{c}}(m),\\overline{c}(m)]$', fontsize=22, fontweight='bold')\n",
    "plt.text(8, 0.9, cMinLabel, fontsize=22, fontweight='bold')\n",
    "lower_unc_bound_m = 1.7\n",
    "lower_unc_bound_c = cFunc_Uncnst(lower_unc_bound_m)-0.2\n",
    "plt.text(lower_unc_bound_m, lower_unc_bound_c-0.2, cMaxLabel, fontsize=22, fontweight='bold')\n",
    "plt.arrow(2.45, 1.05, -0.5, 0.02, head_width=0.05, width=0.001,\n",
    "          facecolor='black', length_includes_head='True')\n",
    "plt.arrow(lower_unc_bound_m, lower_unc_bound_c, -0.5, 0.1, head_width=0.05, width=0.001,\n",
    "          facecolor='black', length_includes_head='True')\n",
    "plt.arrow(upper_bound_m, cFunc_Uncnst(upper_bound_m)-0.2, -0.8, 0.05, head_width=0.1, width=0.015,\n",
    "          facecolor='black', length_includes_head='True')\n",
    "unconst_m = 4.5\n",
    "plt.arrow(14, 0.70, 0.5, -0.1, head_width=0.05, width=0.001,\n",
    "          facecolor='black', length_includes_head='True')\n",
    "\n",
    "makeFig('cFuncBounds')"
   ]
  },
  {
   "cell_type": "markdown",
   "id": "8458e82d",
   "metadata": {},
   "source": [
    "### [Upper and Lower Limits of the Marginal Propensity to Consume](https://econ-ark.github.io/BufferStockTheory/#MPCLimits)\n",
    "\n",
    "The paper shows that as $m_{t}~\\uparrow~\\infty$ the consumption function in the presence of risk gets arbitrarily close to the perfect foresight consumption function.  Defining $\\tilde{κ}$\n",
    "as the perfect foresight model's MPC, this implies that $\\lim_{m_{t}~\\uparrow~\\infty} c^{\\prime}(m) = \\tilde{\\kappa}$.\n",
    "\n",
    "The paper also derives an analytical limit $\\bar{\\MPC}$ for the MPC as $m$ approaches 0., its bounding value.  Strict concavity of the consumption function implies that the consumption function will be everywhere below a function $\\bar{\\MPC}m$, and strictly declining everywhere.  The last figure plots the MPC between these two limits."
   ]
  },
  {
   "cell_type": "markdown",
   "id": "c639c96c",
   "metadata": {},
   "source": [
    "`# Make and plot figure showing the upper and lower limites of the MPC:`"
   ]
  },
  {
   "cell_type": "code",
   "execution_count": 15,
   "id": "05c4da9d",
   "metadata": {
    "lines_to_next_cell": 2,
    "tags": []
   },
   "outputs": [
    {
     "name": "stdout",
     "output_type": "stream",
     "text": [
      "\n",
      "Saving figure MPCLimits in ./Figures\n"
     ]
    },
    {
     "data": {
      "image/png": "[encoded data removed]",
      "text/plain": [
       "<Figure size 864x576 with 1 Axes>"
      ]
     },
     "metadata": {
      "needs_background": "light"
     },
     "output_type": "display_data"
    },
    {
     "name": "stdout",
     "output_type": "stream",
     "text": [
      "\n"
     ]
    }
   ],
   "source": [
    "# The last figure shows the upper and lower limits of the MPC\n",
    "\n",
    "mPlotMin = 0\n",
    "mPlotMax = 8\n",
    "\n",
    "plt.figure(figsize=(12, 8))\n",
    "# Set the plot range of m\n",
    "m = np.linspace(0.001, mPlotMax, mPts)\n",
    "\n",
    "# Use the HARK method derivative to get the derivative of cFunc, and which constitutes the MPC\n",
    "MPC = soln.cFunc.derivative(m)\n",
    "\n",
    "# Define the upper bound of MPC\n",
    "#mpc_Max = (1 - UnempPrb ** (1.0/CRRA)*(R*DiscFac)**(1.0/CRRA)/R)\n",
    "\n",
    "# Define the lower bound of MPC\n",
    "#MPCLower = mpc_Min\n",
    "\n",
    "kappaDef = r'$\\tilde{\\kappa}\\equiv(1-\\pmb{\\text{\\TH}}_{R})$'\n",
    "if not latexExists:\n",
    "    kappaDef = r'κ̲$\\equiv(1-$'+Thorn+'$_{R})$'\n",
    "\n",
    "plt.plot(m, MPC, color='black')\n",
    "plt.plot([mPlotMin, mPlotMax], [mpc_Max, mpc_Max], color='black')\n",
    "plt.plot([mPlotMin, mPlotMax], [mpc_Min, mpc_Min], color='black')\n",
    "plt.xlim(mPlotMin, mPlotMax)\n",
    "plt.ylim(0, 1)  # MPC bounds are between 0 and 1\n",
    "\n",
    "if latexExists:\n",
    "    plt.text(1.5, 0.6, r'$\\MPC(m) \\equiv c^{\\prime}(m)$', fontsize=26, fontweight='bold')\n",
    "    plt.text(5, 0.87, r'$(1-\\UnempPrb^{1/\\CRRA}\\pmb{\\text{\\TH}})\\equiv \\overline{\\MPC}$',\n",
    "             fontsize=26, fontweight='bold')  # Use Thorn character\n",
    "else:\n",
    "    plt.text(1.5, 0.6, r'$\\kappa(m) \\equiv c^{\\prime}(m)$', fontsize=26, fontweight='bold')\n",
    "    plt.text(5, 0.87, r'$(1-\\wp^{1/\\rho}$'+Thorn+'${R})\\equiv \\bar{\\kappa}$',\n",
    "             fontsize=26, fontweight='bold')  # Use Phi instead of Thorn (alas)\n",
    "\n",
    "plt.text(0.5, 0.07, kappaDef, fontsize=26, fontweight='bold')\n",
    "plt.text(mPlotMax+0.05, mPlotMin, \"$m$\", fontsize=26)\n",
    "plt.arrow(1.45, 0.61, -0.4, mPlotMin, head_width=0.02, width=0.001,\n",
    "          facecolor='black', length_includes_head='True')\n",
    "plt.arrow(2.2, 0.07, 0.2, -0.01, head_width=0.02, width=0.001,\n",
    "          facecolor='black', length_includes_head='True')\n",
    "plt.arrow(4.95, 0.895, -0.2, 0.03, head_width=0.02, width=0.001,\n",
    "          facecolor='black', length_includes_head='True')\n",
    "\n",
    "makeFig('MPCLimits')"
   ]
  },
  {
   "cell_type": "markdown",
   "id": "ce8a81cb",
   "metadata": {},
   "source": [
    "# Summary\n",
    "\n",
    "[Two tables in the paper](https://econ-ark.github.io/BufferStockTheory/#Factors-Defined-And-Compared) summarize the various definitions, and then articulate conditions required for the problem to have a nondegenerate solution.  Among the nondegenerate cases, the most interesting result is that if the Growth Impatience Condition holds there will be a target level of wealth."
   ]
  },
  {
   "cell_type": "markdown",
   "id": "1b1af69f",
   "metadata": {
    "heading_collapsed": "true",
    "tags": []
   },
   "source": [
    "### Appendix: Options for Interacting With This Notebook <a id='optionsForInstalling'></a>\n",
    "\n",
    "1. [View (static version)](https://github.com/llorracc/BufferStockTheory/blob/master/Code/Python/BufferStockTheory.ipynb) on GitHub (warning:  GitHub does not render Jupyter notebooks reliably)\n",
    "1. [Launch Online Interactive Version](https://econ-ark.org/materials/BufferStockTheory/#launch)\n",
    "1. For fast (local) execution, install [econ-ark](http://github.com/econ-ark) on your computer ([QUICK START GUIDE](https://github.com/econ-ark/HARK/blob/master/README.md)) then follow these instructions to retrieve the full contents of the `BufferStockTheory` [REMARK](https://github.com/econ-ark/REMARK):\n",
    "   1. At a command line, change the working directory to the one where you want to install\n",
    "       * On unix, if you install in the `/tmp` directory, the installation will disappear after a reboot:\n",
    "       * `cd /tmp`\n",
    "   1. `git clone https://github.com/econ-ark/REMARK --recursive`\n",
    "   1. `cd REMARK/REMARKs/BufferStockTheory`\n",
    "   1. `jupyter notebook BufferStockTheory.ipynb`"
   ]
  },
  {
   "cell_type": "markdown",
   "id": "14604955",
   "metadata": {
    "tags": []
   },
   "source": [
    "### Appendix: Perfect foresight agent failing both the FHWC and RIC\n",
    "\n",
    "An appendix shows the solution for the problem of a perfect foresight consumer whose parameters fail to satisfy both the FHWC and the RIC\n",
    "\n",
    "[Perfect Foresight Liquidity Constrained Solution](https://econ-ark.github.io/BufferStockTheory/#ApndxLiqConstr)"
   ]
  },
  {
   "cell_type": "code",
   "execution_count": 16,
   "id": "bef22948",
   "metadata": {
    "tags": []
   },
   "outputs": [
    {
     "name": "stdout",
     "output_type": "stream",
     "text": [
      "......................................................................................................................................................................................................................................................................................................................................................................................"
     ]
    },
    {
     "name": "stderr",
     "output_type": "stream",
     "text": [
      "\n",
      "(quietly=False and messaging_level < logging.WARNING, so some model information is provided below):\n",
      "\n",
      "The model has the following parameter values:\n",
      "\n",
      "\tDiscFac: 1.0\n",
      "\tLivPrb: 1.0\n",
      "\tCRRA: 2\n",
      "\tRfree: 0.98\n",
      "\tPermGroFac: 0.99\n",
      "\tBoroCnstArt: 0.0\n",
      "\tMaxKinks: 400\n",
      "\tsolverType: HARK\n",
      "\tsolveMethod: EGM\n",
      "\teventTiming: EOP\n",
      "\thorizon: infinite\n",
      "\targs: ()\n",
      "\n",
      "The model's transition equations are:\n",
      "\n",
      "chosen_to_next_choice step:\n",
      "\tkNrm = aNrm\n",
      "\tRNrm = Rfree / (PermGroFac * PermShk)\n",
      "\tbNrm = kNrm * RNrm\n",
      "\tyNrm = TranShk\n",
      "\tmNrm = bNrm + yNrm\n"
     ]
    },
    {
     "name": "stdout",
     "output_type": "stream",
     "text": [
      "..........................\n",
      "Saving figure PFGICRawHoldsFHWCFailsRICFails in ./Figures\n"
     ]
    },
    {
     "data": {
      "image/png": "[encoded data removed]",
      "text/plain": [
       "<Figure size 576x288 with 1 Axes>"
      ]
     },
     "metadata": {
      "needs_background": "light"
     },
     "output_type": "display_data"
    },
    {
     "name": "stdout",
     "output_type": "stream",
     "text": [
      "\n"
     ]
    }
   ],
   "source": [
    "PFGICRawHoldsFHWCFailsRICFails_par = deepcopy(init_perfect_foresight)\n",
    "\n",
    "# Replace parameters.\n",
    "PFGICRawHoldsFHWCFailsRICFails_par['Rfree'] = 0.98\n",
    "PFGICRawHoldsFHWCFailsRICFails_par['DiscFac'] = 1.0\n",
    "PFGICRawHoldsFHWCFailsRICFails_par['PermGroFac'] = [0.99]\n",
    "PFGICRawHoldsFHWCFailsRICFails_par['CRRA'] = 2\n",
    "PFGICRawHoldsFHWCFailsRICFails_par['BoroCnstArt'] = 0.0\n",
    "PFGICRawHoldsFHWCFailsRICFails_par['T_cycle'] = 1  # No seasonal cycles\n",
    "PFGICRawHoldsFHWCFailsRICFails_par['T_retire'] = 0\n",
    "PFGICRawHoldsFHWCFailsRICFails_par['cycles'] = 400  # This many periods\n",
    "PFGICRawHoldsFHWCFailsRICFails_par['MaxKinks'] = 400\n",
    "PFGICRawHoldsFHWCFailsRICFails_par['quiet'] = False\n",
    "PFGICRawHoldsFHWCFailsRICFails_par['BoroCnstArt'] = 0.0  # Borrowing constraint\n",
    "PFGICRawHoldsFHWCFailsRICFails_par['LivPrb'] = [1.0]\n",
    "\n",
    "# Create the agent\n",
    "HWRichButReturnPatientPFConstrainedAgent = \\\n",
    "    PerfForesightConsumerType(**PFGICRawHoldsFHWCFailsRICFails_par,\n",
    "                              quietly=True\n",
    "                              )\n",
    "# Solve and report on conditions\n",
    "this_agent = HWRichButReturnPatientPFConstrainedAgent\n",
    "this_agent.solve(quietly=False, messaging_level=logging.DEBUG)\n",
    "\n",
    "# Plot\n",
    "mPlotMin, mPlotMax = 1, 9.5\n",
    "plt.figure(figsize=(8, 4))\n",
    "m_grid = np.linspace(mPlotMin, mPlotMax, 500)\n",
    "plt.plot(m_grid-1, this_agent.solution[0].cFunc(m_grid), color=\"black\")\n",
    "plt.text(mPlotMax-1+0.05, 1, r\"$b$\", fontsize=26)\n",
    "plt.text(mPlotMin-1, 1.017, r\"$c$\", fontsize=26)\n",
    "plt.xlim(mPlotMin-1, mPlotMax-1)\n",
    "plt.ylim(mPlotMin, 1.016)\n",
    "\n",
    "makeFig('PFGICRawHoldsFHWCFailsRICFails')"
   ]
  }
 ],
 "metadata": {
  "jupytext": {
   "cell_metadata_filter": "ExecuteTime,autoscroll,heading_collapsed,hidden,slideshow,title,tags,jupyter,pycharm,-hide_ouput,-code_folding",
   "cell_metadata_json": true,
   "encoding": "# -*- coding: utf-8 -*-",
   "formats": "ipynb,py:percent",
   "notebook_metadata_filter": "all"
  },
  "kernelspec": {
   "display_name": "Python 3",
   "language": "python",
   "name": "python3"
  },
  "language_info": {
   "codemirror_mode": {
    "name": "ipython",
    "version": 3
   },
   "file_extension": ".py",
   "mimetype": "text/x-python",
   "name": "python",
   "nbconvert_exporter": "python",
   "pygments_lexer": "ipython3",
   "version": "3.8.8"
  },
  "latex_envs": {
   "LaTeX_envs_menu_present": true,
   "autoclose": false,
   "autocomplete": false,
   "bibliofile": "biblio.bib",
   "cite_by": "apalike",
   "current_citInitial": 1,
   "eqLabelWithNumbers": true,
   "eqNumInitial": 1,
   "hotkeys": {
    "equation": "Ctrl-E",
    "itemize": "Ctrl-I"
   },
   "labels_anchors": false,
   "latex_user_defs": false,
   "report_style_numbering": false,
   "user_envs_cfg": false
  }
 },
 "nbformat": 4,
 "nbformat_minor": 5
}
